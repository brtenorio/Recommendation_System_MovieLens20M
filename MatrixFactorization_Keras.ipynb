{
 "cells": [
  {
   "cell_type": "markdown",
   "metadata": {},
   "source": [
    "# **Matrix Factorization engine for Recommendations on MovieLens20M dataset**\n"
   ]
  },
  {
   "cell_type": "markdown",
   "metadata": {},
   "source": [
    "## Objectives:\n",
    "\n",
    "- Implement a matrix factorization engine algorithm with Keras.\n",
    "- Utilize the matrix factorization engine to make predictions on MovieLens20M dataset."
   ]
  },
  {
   "cell_type": "markdown",
   "metadata": {},
   "source": [
    "----\n"
   ]
  },
  {
   "cell_type": "markdown",
   "metadata": {},
   "source": [
    "### Matrix Factorization"
   ]
  },
  {
   "cell_type": "code",
   "execution_count": 1,
   "metadata": {},
   "outputs": [],
   "source": [
    "import pandas as pd\n",
    "import numpy as np\n",
    "import re\n",
    "import matplotlib.pyplot as plt\n",
    "import seaborn as sns\n",
    "\n",
    "from sklearn.model_selection import train_test_split\n",
    "from sklearn.metrics import mean_squared_error, accuracy_score\n",
    "import math\n",
    "\n",
    "from IPython.display import display, Math, Latex\n",
    "\n",
    "%matplotlib inline"
   ]
  },
  {
   "cell_type": "code",
   "execution_count": 2,
   "metadata": {},
   "outputs": [],
   "source": [
    "from tensorflow import keras\n",
    "from keras.layers import Input, Dot, Embedding, Dense, Concatenate, Flatten, Dropout\n",
    "from keras.models import Model\n",
    "from keras.utils import to_categorical"
   ]
  },
  {
   "cell_type": "code",
   "execution_count": 3,
   "metadata": {},
   "outputs": [],
   "source": [
    "# also set a random state\n",
    "rs = 123"
   ]
  },
  {
   "cell_type": "markdown",
   "metadata": {},
   "source": [
    "The goal is to create a neural network structure that can take the user and item one-hot vectors as inputs and outputs a rating estimation or the probability of interaction.\n",
    "\n",
    "While training and updating the weights in the neural network, its hidden layers should be able to capture the pattern or features for each user and item. Based on this idea, we can design a simple neural network architecture like the following:"
   ]
  },
  {
   "cell_type": "markdown",
   "metadata": {},
   "source": [
    "![](https://cf-courses-data.s3.us.cloud-object-storage.appdomain.cloud/IBM-ML321EN-SkillsNetwork/labs/module_4/images/embedding_feature_vector.png)"
   ]
  },
  {
   "cell_type": "markdown",
   "metadata": {},
   "source": [
    "The network inputs are two one-hot encoding vectors, the blue one is for the user and the green one is for the item. Then on top of them, we added two embedding layers. Here embedding means embedding the one-hot encoding vector into a latent feature space. The embedding layer is a fully-connected layer that outputs the embedding feature vectors. \n",
    "\n",
    "The embedding layer outputs two embedding vectors, which are similar to Non-negative matrix factorization. Then we could simply dot the product the user and item embedding vector to output a rating estimation."
   ]
  },
  {
   "cell_type": "markdown",
   "metadata": {},
   "source": [
    "### Load and explore the dataset"
   ]
  },
  {
   "cell_type": "markdown",
   "metadata": {},
   "source": [
    "First, let's load the datasets as `Pandas` dataframes and start some basic exploratory data analysis tasks on them.\n"
   ]
  },
  {
   "cell_type": "code",
   "execution_count": 4,
   "metadata": {},
   "outputs": [],
   "source": [
    "ratings_df = pd.read_csv('rating.csv')"
   ]
  },
  {
   "cell_type": "markdown",
   "metadata": {},
   "source": [
    "Let's first take a look at the datasets."
   ]
  },
  {
   "cell_type": "code",
   "execution_count": 5,
   "metadata": {},
   "outputs": [
    {
     "data": {
      "text/html": [
       "<div>\n",
       "<style scoped>\n",
       "    .dataframe tbody tr th:only-of-type {\n",
       "        vertical-align: middle;\n",
       "    }\n",
       "\n",
       "    .dataframe tbody tr th {\n",
       "        vertical-align: top;\n",
       "    }\n",
       "\n",
       "    .dataframe thead th {\n",
       "        text-align: right;\n",
       "    }\n",
       "</style>\n",
       "<table border=\"1\" class=\"dataframe\">\n",
       "  <thead>\n",
       "    <tr style=\"text-align: right;\">\n",
       "      <th></th>\n",
       "      <th>userId</th>\n",
       "      <th>movieId</th>\n",
       "      <th>rating</th>\n",
       "      <th>timestamp</th>\n",
       "    </tr>\n",
       "  </thead>\n",
       "  <tbody>\n",
       "    <tr>\n",
       "      <th>0</th>\n",
       "      <td>1</td>\n",
       "      <td>2</td>\n",
       "      <td>3.5</td>\n",
       "      <td>2005-04-02 23:53:47</td>\n",
       "    </tr>\n",
       "    <tr>\n",
       "      <th>1</th>\n",
       "      <td>1</td>\n",
       "      <td>29</td>\n",
       "      <td>3.5</td>\n",
       "      <td>2005-04-02 23:31:16</td>\n",
       "    </tr>\n",
       "    <tr>\n",
       "      <th>2</th>\n",
       "      <td>1</td>\n",
       "      <td>32</td>\n",
       "      <td>3.5</td>\n",
       "      <td>2005-04-02 23:33:39</td>\n",
       "    </tr>\n",
       "    <tr>\n",
       "      <th>3</th>\n",
       "      <td>1</td>\n",
       "      <td>47</td>\n",
       "      <td>3.5</td>\n",
       "      <td>2005-04-02 23:32:07</td>\n",
       "    </tr>\n",
       "    <tr>\n",
       "      <th>4</th>\n",
       "      <td>1</td>\n",
       "      <td>50</td>\n",
       "      <td>3.5</td>\n",
       "      <td>2005-04-02 23:29:40</td>\n",
       "    </tr>\n",
       "  </tbody>\n",
       "</table>\n",
       "</div>"
      ],
      "text/plain": [
       "   userId  movieId  rating            timestamp\n",
       "0       1        2     3.5  2005-04-02 23:53:47\n",
       "1       1       29     3.5  2005-04-02 23:31:16\n",
       "2       1       32     3.5  2005-04-02 23:33:39\n",
       "3       1       47     3.5  2005-04-02 23:32:07\n",
       "4       1       50     3.5  2005-04-02 23:29:40"
      ]
     },
     "execution_count": 5,
     "metadata": {},
     "output_type": "execute_result"
    }
   ],
   "source": [
    "ratings_df.head()"
   ]
  },
  {
   "cell_type": "code",
   "execution_count": 6,
   "metadata": {},
   "outputs": [
    {
     "name": "stdout",
     "output_type": "stream",
     "text": [
      "Number of rated movies: 26744 ; number of unique users: 138493\n"
     ]
    }
   ],
   "source": [
    "print('Number of rated movies:', ratings_df['movieId'].unique().size,'; number of unique users:', ratings_df['userId'].unique().size) "
   ]
  },
  {
   "cell_type": "markdown",
   "metadata": {},
   "source": [
    "Since here we don't use the time stamp for the moment, let us remove it from the user-rating matrix (URM)"
   ]
  },
  {
   "cell_type": "code",
   "execution_count": 7,
   "metadata": {},
   "outputs": [
    {
     "data": {
      "text/html": [
       "<div>\n",
       "<style scoped>\n",
       "    .dataframe tbody tr th:only-of-type {\n",
       "        vertical-align: middle;\n",
       "    }\n",
       "\n",
       "    .dataframe tbody tr th {\n",
       "        vertical-align: top;\n",
       "    }\n",
       "\n",
       "    .dataframe thead th {\n",
       "        text-align: right;\n",
       "    }\n",
       "</style>\n",
       "<table border=\"1\" class=\"dataframe\">\n",
       "  <thead>\n",
       "    <tr style=\"text-align: right;\">\n",
       "      <th></th>\n",
       "      <th>userId</th>\n",
       "      <th>movieId</th>\n",
       "      <th>rating</th>\n",
       "    </tr>\n",
       "  </thead>\n",
       "  <tbody>\n",
       "    <tr>\n",
       "      <th>0</th>\n",
       "      <td>1</td>\n",
       "      <td>2</td>\n",
       "      <td>3.5</td>\n",
       "    </tr>\n",
       "    <tr>\n",
       "      <th>1</th>\n",
       "      <td>1</td>\n",
       "      <td>29</td>\n",
       "      <td>3.5</td>\n",
       "    </tr>\n",
       "    <tr>\n",
       "      <th>2</th>\n",
       "      <td>1</td>\n",
       "      <td>32</td>\n",
       "      <td>3.5</td>\n",
       "    </tr>\n",
       "    <tr>\n",
       "      <th>3</th>\n",
       "      <td>1</td>\n",
       "      <td>47</td>\n",
       "      <td>3.5</td>\n",
       "    </tr>\n",
       "    <tr>\n",
       "      <th>4</th>\n",
       "      <td>1</td>\n",
       "      <td>50</td>\n",
       "      <td>3.5</td>\n",
       "    </tr>\n",
       "  </tbody>\n",
       "</table>\n",
       "</div>"
      ],
      "text/plain": [
       "   userId  movieId  rating\n",
       "0       1        2     3.5\n",
       "1       1       29     3.5\n",
       "2       1       32     3.5\n",
       "3       1       47     3.5\n",
       "4       1       50     3.5"
      ]
     },
     "execution_count": 7,
     "metadata": {},
     "output_type": "execute_result"
    }
   ],
   "source": [
    "urm_df = ratings_df.drop('timestamp',axis=1) \n",
    "urm_df.head()"
   ]
  },
  {
   "cell_type": "code",
   "execution_count": 8,
   "metadata": {},
   "outputs": [],
   "source": [
    "mu = urm_df['rating'].mean()\n",
    "urm_df['shifted'] = urm_df['rating'] - mu"
   ]
  },
  {
   "cell_type": "code",
   "execution_count": 9,
   "metadata": {},
   "outputs": [
    {
     "data": {
      "text/html": [
       "<div>\n",
       "<style scoped>\n",
       "    .dataframe tbody tr th:only-of-type {\n",
       "        vertical-align: middle;\n",
       "    }\n",
       "\n",
       "    .dataframe tbody tr th {\n",
       "        vertical-align: top;\n",
       "    }\n",
       "\n",
       "    .dataframe thead th {\n",
       "        text-align: right;\n",
       "    }\n",
       "</style>\n",
       "<table border=\"1\" class=\"dataframe\">\n",
       "  <thead>\n",
       "    <tr style=\"text-align: right;\">\n",
       "      <th></th>\n",
       "      <th>userId</th>\n",
       "      <th>movieId</th>\n",
       "      <th>rating</th>\n",
       "      <th>shifted</th>\n",
       "    </tr>\n",
       "  </thead>\n",
       "  <tbody>\n",
       "    <tr>\n",
       "      <th>count</th>\n",
       "      <td>2.000026e+07</td>\n",
       "      <td>2.000026e+07</td>\n",
       "      <td>2.000026e+07</td>\n",
       "      <td>2.000026e+07</td>\n",
       "    </tr>\n",
       "    <tr>\n",
       "      <th>mean</th>\n",
       "      <td>6.904587e+04</td>\n",
       "      <td>9.041567e+03</td>\n",
       "      <td>3.525529e+00</td>\n",
       "      <td>-2.671549e-16</td>\n",
       "    </tr>\n",
       "    <tr>\n",
       "      <th>std</th>\n",
       "      <td>4.003863e+04</td>\n",
       "      <td>1.978948e+04</td>\n",
       "      <td>1.051989e+00</td>\n",
       "      <td>1.051989e+00</td>\n",
       "    </tr>\n",
       "    <tr>\n",
       "      <th>min</th>\n",
       "      <td>1.000000e+00</td>\n",
       "      <td>1.000000e+00</td>\n",
       "      <td>5.000000e-01</td>\n",
       "      <td>-3.025529e+00</td>\n",
       "    </tr>\n",
       "    <tr>\n",
       "      <th>25%</th>\n",
       "      <td>3.439500e+04</td>\n",
       "      <td>9.020000e+02</td>\n",
       "      <td>3.000000e+00</td>\n",
       "      <td>-5.255286e-01</td>\n",
       "    </tr>\n",
       "    <tr>\n",
       "      <th>50%</th>\n",
       "      <td>6.914100e+04</td>\n",
       "      <td>2.167000e+03</td>\n",
       "      <td>3.500000e+00</td>\n",
       "      <td>-2.552856e-02</td>\n",
       "    </tr>\n",
       "    <tr>\n",
       "      <th>75%</th>\n",
       "      <td>1.036370e+05</td>\n",
       "      <td>4.770000e+03</td>\n",
       "      <td>4.000000e+00</td>\n",
       "      <td>4.744714e-01</td>\n",
       "    </tr>\n",
       "    <tr>\n",
       "      <th>max</th>\n",
       "      <td>1.384930e+05</td>\n",
       "      <td>1.312620e+05</td>\n",
       "      <td>5.000000e+00</td>\n",
       "      <td>1.474471e+00</td>\n",
       "    </tr>\n",
       "  </tbody>\n",
       "</table>\n",
       "</div>"
      ],
      "text/plain": [
       "             userId       movieId        rating       shifted\n",
       "count  2.000026e+07  2.000026e+07  2.000026e+07  2.000026e+07\n",
       "mean   6.904587e+04  9.041567e+03  3.525529e+00 -2.671549e-16\n",
       "std    4.003863e+04  1.978948e+04  1.051989e+00  1.051989e+00\n",
       "min    1.000000e+00  1.000000e+00  5.000000e-01 -3.025529e+00\n",
       "25%    3.439500e+04  9.020000e+02  3.000000e+00 -5.255286e-01\n",
       "50%    6.914100e+04  2.167000e+03  3.500000e+00 -2.552856e-02\n",
       "75%    1.036370e+05  4.770000e+03  4.000000e+00  4.744714e-01\n",
       "max    1.384930e+05  1.312620e+05  5.000000e+00  1.474471e+00"
      ]
     },
     "execution_count": 9,
     "metadata": {},
     "output_type": "execute_result"
    }
   ],
   "source": [
    "urm_df.describe()"
   ]
  },
  {
   "cell_type": "markdown",
   "metadata": {},
   "source": [
    "# Sample user-item matrix with 1000 movies"
   ]
  },
  {
   "cell_type": "markdown",
   "metadata": {},
   "source": [
    "Since there is much more users than movies in the dataset, we don't need that many movies as before. Here we can stay with a sample of the 1000 most frequently rated movies."
   ]
  },
  {
   "cell_type": "code",
   "execution_count": 10,
   "metadata": {},
   "outputs": [],
   "source": [
    "# here we sort the item in order of number of times the movie was rated. Later we take the 1000 most frequently rated movies.\n",
    "list_of_movies_1000 = urm_df.groupby(['movieId']).size().axes[0][:1000]"
   ]
  },
  {
   "cell_type": "code",
   "execution_count": 11,
   "metadata": {},
   "outputs": [],
   "source": [
    "sample_items_df = urm_df[urm_df['movieId'].isin(list_of_movies_1000)] #"
   ]
  },
  {
   "cell_type": "code",
   "execution_count": 12,
   "metadata": {},
   "outputs": [
    {
     "name": "stdout",
     "output_type": "stream",
     "text": [
      "number of ratings (5399624, 4)\n",
      "Number of rated movies: 1000 ; number of unique users: 137416\n"
     ]
    }
   ],
   "source": [
    "print('number of ratings', sample_items_df.shape)\n",
    "print('Number of rated movies:', sample_items_df['movieId'].unique().size,'; number of unique users:', sample_items_df['userId'].unique().size) "
   ]
  },
  {
   "cell_type": "code",
   "execution_count": 13,
   "metadata": {},
   "outputs": [],
   "source": [
    "# Now we use label encoding on the x set\n",
    "from sklearn.preprocessing import LabelEncoder\n",
    "\n",
    "# Create a LabelEncoder object\n",
    "label_encoder_user = LabelEncoder()\n",
    "label_encoder_item = LabelEncoder()\n",
    "\n",
    "label_encoder_user.fit(sample_items_df['userId'])\n",
    "label_encoder_item.fit(sample_items_df['movieId'])\n",
    "\n",
    "x_user = label_encoder_user.transform(sample_items_df['userId'])\n",
    "x_item = label_encoder_item.transform(sample_items_df['movieId'])\n",
    "\n",
    "y = sample_items_df['shifted'].values"
   ]
  },
  {
   "cell_type": "code",
   "execution_count": 14,
   "metadata": {},
   "outputs": [
    {
     "data": {
      "text/html": [
       "<div>\n",
       "<style scoped>\n",
       "    .dataframe tbody tr th:only-of-type {\n",
       "        vertical-align: middle;\n",
       "    }\n",
       "\n",
       "    .dataframe tbody tr th {\n",
       "        vertical-align: top;\n",
       "    }\n",
       "\n",
       "    .dataframe thead th {\n",
       "        text-align: right;\n",
       "    }\n",
       "</style>\n",
       "<table border=\"1\" class=\"dataframe\">\n",
       "  <thead>\n",
       "    <tr style=\"text-align: right;\">\n",
       "      <th></th>\n",
       "      <th>userId</th>\n",
       "      <th>movieId</th>\n",
       "    </tr>\n",
       "  </thead>\n",
       "  <tbody>\n",
       "    <tr>\n",
       "      <th>0</th>\n",
       "      <td>0</td>\n",
       "      <td>1</td>\n",
       "    </tr>\n",
       "    <tr>\n",
       "      <th>1</th>\n",
       "      <td>0</td>\n",
       "      <td>28</td>\n",
       "    </tr>\n",
       "    <tr>\n",
       "      <th>2</th>\n",
       "      <td>0</td>\n",
       "      <td>31</td>\n",
       "    </tr>\n",
       "    <tr>\n",
       "      <th>3</th>\n",
       "      <td>0</td>\n",
       "      <td>46</td>\n",
       "    </tr>\n",
       "    <tr>\n",
       "      <th>4</th>\n",
       "      <td>0</td>\n",
       "      <td>49</td>\n",
       "    </tr>\n",
       "    <tr>\n",
       "      <th>...</th>\n",
       "      <td>...</td>\n",
       "      <td>...</td>\n",
       "    </tr>\n",
       "    <tr>\n",
       "      <th>5399619</th>\n",
       "      <td>137415</td>\n",
       "      <td>767</td>\n",
       "    </tr>\n",
       "    <tr>\n",
       "      <th>5399620</th>\n",
       "      <td>137415</td>\n",
       "      <td>771</td>\n",
       "    </tr>\n",
       "    <tr>\n",
       "      <th>5399621</th>\n",
       "      <td>137415</td>\n",
       "      <td>775</td>\n",
       "    </tr>\n",
       "    <tr>\n",
       "      <th>5399622</th>\n",
       "      <td>137415</td>\n",
       "      <td>808</td>\n",
       "    </tr>\n",
       "    <tr>\n",
       "      <th>5399623</th>\n",
       "      <td>137415</td>\n",
       "      <td>821</td>\n",
       "    </tr>\n",
       "  </tbody>\n",
       "</table>\n",
       "<p>5399624 rows × 2 columns</p>\n",
       "</div>"
      ],
      "text/plain": [
       "         userId  movieId\n",
       "0             0        1\n",
       "1             0       28\n",
       "2             0       31\n",
       "3             0       46\n",
       "4             0       49\n",
       "...         ...      ...\n",
       "5399619  137415      767\n",
       "5399620  137415      771\n",
       "5399621  137415      775\n",
       "5399622  137415      808\n",
       "5399623  137415      821\n",
       "\n",
       "[5399624 rows x 2 columns]"
      ]
     },
     "execution_count": 14,
     "metadata": {},
     "output_type": "execute_result"
    }
   ],
   "source": [
    "x = pd.DataFrame({'userId': x_user, 'movieId': x_item})\n",
    "x"
   ]
  },
  {
   "cell_type": "code",
   "execution_count": 15,
   "metadata": {},
   "outputs": [],
   "source": [
    "# define train, validate, and test sets\n",
    "x_train, x_test, y_train, y_test = train_test_split(x, y, test_size = 0.1, random_state = rs)"
   ]
  },
  {
   "cell_type": "code",
   "execution_count": 16,
   "metadata": {},
   "outputs": [
    {
     "name": "stdout",
     "output_type": "stream",
     "text": [
      "There are total `137416` of users and `1000` items\n"
     ]
    }
   ],
   "source": [
    "num_users = len(x['userId'].unique())\n",
    "num_items = len(x['movieId'].unique())\n",
    "print(f\"There are total `{num_users}` of users and `{num_items}` items\")"
   ]
  },
  {
   "cell_type": "code",
   "execution_count": 17,
   "metadata": {},
   "outputs": [
    {
     "data": {
      "text/html": [
       "<div>\n",
       "<style scoped>\n",
       "    .dataframe tbody tr th:only-of-type {\n",
       "        vertical-align: middle;\n",
       "    }\n",
       "\n",
       "    .dataframe tbody tr th {\n",
       "        vertical-align: top;\n",
       "    }\n",
       "\n",
       "    .dataframe thead th {\n",
       "        text-align: right;\n",
       "    }\n",
       "</style>\n",
       "<table border=\"1\" class=\"dataframe\">\n",
       "  <thead>\n",
       "    <tr style=\"text-align: right;\">\n",
       "      <th></th>\n",
       "      <th>userId</th>\n",
       "      <th>movieId</th>\n",
       "    </tr>\n",
       "  </thead>\n",
       "  <tbody>\n",
       "    <tr>\n",
       "      <th>4473791</th>\n",
       "      <td>113782</td>\n",
       "      <td>893</td>\n",
       "    </tr>\n",
       "    <tr>\n",
       "      <th>4647004</th>\n",
       "      <td>118250</td>\n",
       "      <td>470</td>\n",
       "    </tr>\n",
       "    <tr>\n",
       "      <th>617649</th>\n",
       "      <td>15437</td>\n",
       "      <td>269</td>\n",
       "    </tr>\n",
       "    <tr>\n",
       "      <th>3634554</th>\n",
       "      <td>92427</td>\n",
       "      <td>9</td>\n",
       "    </tr>\n",
       "    <tr>\n",
       "      <th>3713253</th>\n",
       "      <td>94485</td>\n",
       "      <td>31</td>\n",
       "    </tr>\n",
       "  </tbody>\n",
       "</table>\n",
       "</div>"
      ],
      "text/plain": [
       "         userId  movieId\n",
       "4473791  113782      893\n",
       "4647004  118250      470\n",
       "617649    15437      269\n",
       "3634554   92427        9\n",
       "3713253   94485       31"
      ]
     },
     "execution_count": 17,
     "metadata": {},
     "output_type": "execute_result"
    }
   ],
   "source": [
    "x_train.head()"
   ]
  },
  {
   "cell_type": "code",
   "execution_count": 18,
   "metadata": {},
   "outputs": [],
   "source": [
    "# we transform x_train and x_test into numpy arrays\n",
    "\n",
    "x_train = x_train.to_numpy()\n",
    "x_test = x_test.to_numpy()"
   ]
  },
  {
   "cell_type": "markdown",
   "metadata": {},
   "source": [
    "## Build and train a matrix factorization model with Keras"
   ]
  },
  {
   "cell_type": "code",
   "execution_count": 19,
   "metadata": {},
   "outputs": [
    {
     "data": {
      "text/html": [
       "<pre style=\"white-space:pre;overflow-x:auto;line-height:normal;font-family:Menlo,'DejaVu Sans Mono',consolas,'Courier New',monospace\"><span style=\"font-weight: bold\">Model: \"functional_1\"</span>\n",
       "</pre>\n"
      ],
      "text/plain": [
       "\u001b[1mModel: \"functional_1\"\u001b[0m\n"
      ]
     },
     "metadata": {},
     "output_type": "display_data"
    },
    {
     "data": {
      "text/html": [
       "<pre style=\"white-space:pre;overflow-x:auto;line-height:normal;font-family:Menlo,'DejaVu Sans Mono',consolas,'Courier New',monospace\">┏━━━━━━━━━━━━━━━━━━━━━┳━━━━━━━━━━━━━━━━━━━┳━━━━━━━━━━━━┳━━━━━━━━━━━━━━━━━━━┓\n",
       "┃<span style=\"font-weight: bold\"> Layer (type)        </span>┃<span style=\"font-weight: bold\"> Output Shape      </span>┃<span style=\"font-weight: bold\">    Param # </span>┃<span style=\"font-weight: bold\"> Connected to      </span>┃\n",
       "┡━━━━━━━━━━━━━━━━━━━━━╇━━━━━━━━━━━━━━━━━━━╇━━━━━━━━━━━━╇━━━━━━━━━━━━━━━━━━━┩\n",
       "│ input_layer         │ (<span style=\"color: #00d7ff; text-decoration-color: #00d7ff\">None</span>, <span style=\"color: #00af00; text-decoration-color: #00af00\">1</span>)         │          <span style=\"color: #00af00; text-decoration-color: #00af00\">0</span> │ -                 │\n",
       "│ (<span style=\"color: #0087ff; text-decoration-color: #0087ff\">InputLayer</span>)        │                   │            │                   │\n",
       "├─────────────────────┼───────────────────┼────────────┼───────────────────┤\n",
       "│ input_layer_1       │ (<span style=\"color: #00d7ff; text-decoration-color: #00d7ff\">None</span>, <span style=\"color: #00af00; text-decoration-color: #00af00\">1</span>)         │          <span style=\"color: #00af00; text-decoration-color: #00af00\">0</span> │ -                 │\n",
       "│ (<span style=\"color: #0087ff; text-decoration-color: #0087ff\">InputLayer</span>)        │                   │            │                   │\n",
       "├─────────────────────┼───────────────────┼────────────┼───────────────────┤\n",
       "│ embedding_layer_us… │ (<span style=\"color: #00d7ff; text-decoration-color: #00d7ff\">None</span>, <span style=\"color: #00af00; text-decoration-color: #00af00\">1</span>, <span style=\"color: #00af00; text-decoration-color: #00af00\">16</span>)     │  <span style=\"color: #00af00; text-decoration-color: #00af00\">2,198,656</span> │ input_layer[<span style=\"color: #00af00; text-decoration-color: #00af00\">0</span>][<span style=\"color: #00af00; text-decoration-color: #00af00\">0</span>] │\n",
       "│ (<span style=\"color: #0087ff; text-decoration-color: #0087ff\">Embedding</span>)         │                   │            │                   │\n",
       "├─────────────────────┼───────────────────┼────────────┼───────────────────┤\n",
       "│ embedding_layer_it… │ (<span style=\"color: #00d7ff; text-decoration-color: #00d7ff\">None</span>, <span style=\"color: #00af00; text-decoration-color: #00af00\">1</span>, <span style=\"color: #00af00; text-decoration-color: #00af00\">16</span>)     │     <span style=\"color: #00af00; text-decoration-color: #00af00\">16,000</span> │ input_layer_1[<span style=\"color: #00af00; text-decoration-color: #00af00\">0</span>]… │\n",
       "│ (<span style=\"color: #0087ff; text-decoration-color: #0087ff\">Embedding</span>)         │                   │            │                   │\n",
       "├─────────────────────┼───────────────────┼────────────┼───────────────────┤\n",
       "│ dot (<span style=\"color: #0087ff; text-decoration-color: #0087ff\">Dot</span>)           │ (<span style=\"color: #00d7ff; text-decoration-color: #00d7ff\">None</span>, <span style=\"color: #00af00; text-decoration-color: #00af00\">1</span>, <span style=\"color: #00af00; text-decoration-color: #00af00\">1</span>)      │          <span style=\"color: #00af00; text-decoration-color: #00af00\">0</span> │ embedding_layer_… │\n",
       "│                     │                   │            │ embedding_layer_… │\n",
       "├─────────────────────┼───────────────────┼────────────┼───────────────────┤\n",
       "│ bias_layer_user     │ (<span style=\"color: #00d7ff; text-decoration-color: #00d7ff\">None</span>, <span style=\"color: #00af00; text-decoration-color: #00af00\">1</span>, <span style=\"color: #00af00; text-decoration-color: #00af00\">1</span>)      │    <span style=\"color: #00af00; text-decoration-color: #00af00\">137,416</span> │ input_layer[<span style=\"color: #00af00; text-decoration-color: #00af00\">0</span>][<span style=\"color: #00af00; text-decoration-color: #00af00\">0</span>] │\n",
       "│ (<span style=\"color: #0087ff; text-decoration-color: #0087ff\">Embedding</span>)         │                   │            │                   │\n",
       "├─────────────────────┼───────────────────┼────────────┼───────────────────┤\n",
       "│ add (<span style=\"color: #0087ff; text-decoration-color: #0087ff\">Add</span>)           │ (<span style=\"color: #00d7ff; text-decoration-color: #00d7ff\">None</span>, <span style=\"color: #00af00; text-decoration-color: #00af00\">1</span>, <span style=\"color: #00af00; text-decoration-color: #00af00\">1</span>)      │          <span style=\"color: #00af00; text-decoration-color: #00af00\">0</span> │ dot[<span style=\"color: #00af00; text-decoration-color: #00af00\">0</span>][<span style=\"color: #00af00; text-decoration-color: #00af00\">0</span>],        │\n",
       "│                     │                   │            │ bias_layer_user[<span style=\"color: #00af00; text-decoration-color: #00af00\">…</span> │\n",
       "├─────────────────────┼───────────────────┼────────────┼───────────────────┤\n",
       "│ bias_layer_item     │ (<span style=\"color: #00d7ff; text-decoration-color: #00d7ff\">None</span>, <span style=\"color: #00af00; text-decoration-color: #00af00\">1</span>, <span style=\"color: #00af00; text-decoration-color: #00af00\">1</span>)      │      <span style=\"color: #00af00; text-decoration-color: #00af00\">1,000</span> │ input_layer_1[<span style=\"color: #00af00; text-decoration-color: #00af00\">0</span>]… │\n",
       "│ (<span style=\"color: #0087ff; text-decoration-color: #0087ff\">Embedding</span>)         │                   │            │                   │\n",
       "├─────────────────────┼───────────────────┼────────────┼───────────────────┤\n",
       "│ add_1 (<span style=\"color: #0087ff; text-decoration-color: #0087ff\">Add</span>)         │ (<span style=\"color: #00d7ff; text-decoration-color: #00d7ff\">None</span>, <span style=\"color: #00af00; text-decoration-color: #00af00\">1</span>, <span style=\"color: #00af00; text-decoration-color: #00af00\">1</span>)      │          <span style=\"color: #00af00; text-decoration-color: #00af00\">0</span> │ add[<span style=\"color: #00af00; text-decoration-color: #00af00\">0</span>][<span style=\"color: #00af00; text-decoration-color: #00af00\">0</span>],        │\n",
       "│                     │                   │            │ bias_layer_item[<span style=\"color: #00af00; text-decoration-color: #00af00\">…</span> │\n",
       "├─────────────────────┼───────────────────┼────────────┼───────────────────┤\n",
       "│ flatten (<span style=\"color: #0087ff; text-decoration-color: #0087ff\">Flatten</span>)   │ (<span style=\"color: #00d7ff; text-decoration-color: #00d7ff\">None</span>, <span style=\"color: #00af00; text-decoration-color: #00af00\">1</span>)         │          <span style=\"color: #00af00; text-decoration-color: #00af00\">0</span> │ add_1[<span style=\"color: #00af00; text-decoration-color: #00af00\">0</span>][<span style=\"color: #00af00; text-decoration-color: #00af00\">0</span>]       │\n",
       "└─────────────────────┴───────────────────┴────────────┴───────────────────┘\n",
       "</pre>\n"
      ],
      "text/plain": [
       "┏━━━━━━━━━━━━━━━━━━━━━┳━━━━━━━━━━━━━━━━━━━┳━━━━━━━━━━━━┳━━━━━━━━━━━━━━━━━━━┓\n",
       "┃\u001b[1m \u001b[0m\u001b[1mLayer (type)       \u001b[0m\u001b[1m \u001b[0m┃\u001b[1m \u001b[0m\u001b[1mOutput Shape     \u001b[0m\u001b[1m \u001b[0m┃\u001b[1m \u001b[0m\u001b[1m   Param #\u001b[0m\u001b[1m \u001b[0m┃\u001b[1m \u001b[0m\u001b[1mConnected to     \u001b[0m\u001b[1m \u001b[0m┃\n",
       "┡━━━━━━━━━━━━━━━━━━━━━╇━━━━━━━━━━━━━━━━━━━╇━━━━━━━━━━━━╇━━━━━━━━━━━━━━━━━━━┩\n",
       "│ input_layer         │ (\u001b[38;5;45mNone\u001b[0m, \u001b[38;5;34m1\u001b[0m)         │          \u001b[38;5;34m0\u001b[0m │ -                 │\n",
       "│ (\u001b[38;5;33mInputLayer\u001b[0m)        │                   │            │                   │\n",
       "├─────────────────────┼───────────────────┼────────────┼───────────────────┤\n",
       "│ input_layer_1       │ (\u001b[38;5;45mNone\u001b[0m, \u001b[38;5;34m1\u001b[0m)         │          \u001b[38;5;34m0\u001b[0m │ -                 │\n",
       "│ (\u001b[38;5;33mInputLayer\u001b[0m)        │                   │            │                   │\n",
       "├─────────────────────┼───────────────────┼────────────┼───────────────────┤\n",
       "│ embedding_layer_us… │ (\u001b[38;5;45mNone\u001b[0m, \u001b[38;5;34m1\u001b[0m, \u001b[38;5;34m16\u001b[0m)     │  \u001b[38;5;34m2,198,656\u001b[0m │ input_layer[\u001b[38;5;34m0\u001b[0m][\u001b[38;5;34m0\u001b[0m] │\n",
       "│ (\u001b[38;5;33mEmbedding\u001b[0m)         │                   │            │                   │\n",
       "├─────────────────────┼───────────────────┼────────────┼───────────────────┤\n",
       "│ embedding_layer_it… │ (\u001b[38;5;45mNone\u001b[0m, \u001b[38;5;34m1\u001b[0m, \u001b[38;5;34m16\u001b[0m)     │     \u001b[38;5;34m16,000\u001b[0m │ input_layer_1[\u001b[38;5;34m0\u001b[0m]… │\n",
       "│ (\u001b[38;5;33mEmbedding\u001b[0m)         │                   │            │                   │\n",
       "├─────────────────────┼───────────────────┼────────────┼───────────────────┤\n",
       "│ dot (\u001b[38;5;33mDot\u001b[0m)           │ (\u001b[38;5;45mNone\u001b[0m, \u001b[38;5;34m1\u001b[0m, \u001b[38;5;34m1\u001b[0m)      │          \u001b[38;5;34m0\u001b[0m │ embedding_layer_… │\n",
       "│                     │                   │            │ embedding_layer_… │\n",
       "├─────────────────────┼───────────────────┼────────────┼───────────────────┤\n",
       "│ bias_layer_user     │ (\u001b[38;5;45mNone\u001b[0m, \u001b[38;5;34m1\u001b[0m, \u001b[38;5;34m1\u001b[0m)      │    \u001b[38;5;34m137,416\u001b[0m │ input_layer[\u001b[38;5;34m0\u001b[0m][\u001b[38;5;34m0\u001b[0m] │\n",
       "│ (\u001b[38;5;33mEmbedding\u001b[0m)         │                   │            │                   │\n",
       "├─────────────────────┼───────────────────┼────────────┼───────────────────┤\n",
       "│ add (\u001b[38;5;33mAdd\u001b[0m)           │ (\u001b[38;5;45mNone\u001b[0m, \u001b[38;5;34m1\u001b[0m, \u001b[38;5;34m1\u001b[0m)      │          \u001b[38;5;34m0\u001b[0m │ dot[\u001b[38;5;34m0\u001b[0m][\u001b[38;5;34m0\u001b[0m],        │\n",
       "│                     │                   │            │ bias_layer_user[\u001b[38;5;34m…\u001b[0m │\n",
       "├─────────────────────┼───────────────────┼────────────┼───────────────────┤\n",
       "│ bias_layer_item     │ (\u001b[38;5;45mNone\u001b[0m, \u001b[38;5;34m1\u001b[0m, \u001b[38;5;34m1\u001b[0m)      │      \u001b[38;5;34m1,000\u001b[0m │ input_layer_1[\u001b[38;5;34m0\u001b[0m]… │\n",
       "│ (\u001b[38;5;33mEmbedding\u001b[0m)         │                   │            │                   │\n",
       "├─────────────────────┼───────────────────┼────────────┼───────────────────┤\n",
       "│ add_1 (\u001b[38;5;33mAdd\u001b[0m)         │ (\u001b[38;5;45mNone\u001b[0m, \u001b[38;5;34m1\u001b[0m, \u001b[38;5;34m1\u001b[0m)      │          \u001b[38;5;34m0\u001b[0m │ add[\u001b[38;5;34m0\u001b[0m][\u001b[38;5;34m0\u001b[0m],        │\n",
       "│                     │                   │            │ bias_layer_item[\u001b[38;5;34m…\u001b[0m │\n",
       "├─────────────────────┼───────────────────┼────────────┼───────────────────┤\n",
       "│ flatten (\u001b[38;5;33mFlatten\u001b[0m)   │ (\u001b[38;5;45mNone\u001b[0m, \u001b[38;5;34m1\u001b[0m)         │          \u001b[38;5;34m0\u001b[0m │ add_1[\u001b[38;5;34m0\u001b[0m][\u001b[38;5;34m0\u001b[0m]       │\n",
       "└─────────────────────┴───────────────────┴────────────┴───────────────────┘\n"
      ]
     },
     "metadata": {},
     "output_type": "display_data"
    },
    {
     "data": {
      "text/html": [
       "<pre style=\"white-space:pre;overflow-x:auto;line-height:normal;font-family:Menlo,'DejaVu Sans Mono',consolas,'Courier New',monospace\"><span style=\"font-weight: bold\"> Total params: </span><span style=\"color: #00af00; text-decoration-color: #00af00\">2,353,072</span> (8.98 MB)\n",
       "</pre>\n"
      ],
      "text/plain": [
       "\u001b[1m Total params: \u001b[0m\u001b[38;5;34m2,353,072\u001b[0m (8.98 MB)\n"
      ]
     },
     "metadata": {},
     "output_type": "display_data"
    },
    {
     "data": {
      "text/html": [
       "<pre style=\"white-space:pre;overflow-x:auto;line-height:normal;font-family:Menlo,'DejaVu Sans Mono',consolas,'Courier New',monospace\"><span style=\"font-weight: bold\"> Trainable params: </span><span style=\"color: #00af00; text-decoration-color: #00af00\">2,353,072</span> (8.98 MB)\n",
       "</pre>\n"
      ],
      "text/plain": [
       "\u001b[1m Trainable params: \u001b[0m\u001b[38;5;34m2,353,072\u001b[0m (8.98 MB)\n"
      ]
     },
     "metadata": {},
     "output_type": "display_data"
    },
    {
     "data": {
      "text/html": [
       "<pre style=\"white-space:pre;overflow-x:auto;line-height:normal;font-family:Menlo,'DejaVu Sans Mono',consolas,'Courier New',monospace\"><span style=\"font-weight: bold\"> Non-trainable params: </span><span style=\"color: #00af00; text-decoration-color: #00af00\">0</span> (0.00 B)\n",
       "</pre>\n"
      ],
      "text/plain": [
       "\u001b[1m Non-trainable params: \u001b[0m\u001b[38;5;34m0\u001b[0m (0.00 B)\n"
      ]
     },
     "metadata": {},
     "output_type": "display_data"
    }
   ],
   "source": [
    "embedding_size = 16 # K\n",
    "\n",
    "# Define input layers for two sets of data\n",
    "# The batch_size is implicit, so the input dim is (None,1)\n",
    "input_user = Input(shape=(1,)) # (None,1)\n",
    "input_item = Input(shape=(1,)) # (None,1)\n",
    "\n",
    "\n",
    "# Main model - MF\n",
    "# Define embedding layer for user\n",
    "embedding_layer_user = Embedding(input_dim=num_users, output_dim=embedding_size,\n",
    "                                 embeddings_regularizer=keras.regularizers.l2(1e-2),\n",
    "                                 name='embedding_layer_user'\n",
    "                                 )(input_user) # (None,1,K)\n",
    "\n",
    "# Bias is applied per user, hence output_dim=1\n",
    "bias_layer_user = Embedding(input_dim=num_users, output_dim=1, \n",
    "                            name='bias_layer_user')(input_user) # (None,1,1)\n",
    "\n",
    "# Define embedding layer for item\n",
    "embedding_layer_item = Embedding(input_dim=num_items, output_dim=embedding_size,\n",
    "                                 embeddings_regularizer=keras.regularizers.l2(1e-2),\n",
    "                                 name='embedding_layer_item'\n",
    "                                 )(input_item) # (None,1,K)\n",
    "\n",
    "# Bias is applied per item, hence output_dim=1\n",
    "bias_layer_item = Embedding(input_dim=num_items, output_dim=1, \n",
    "                            name='bias_layer_item')(input_item) # (None,1,1)\n",
    "\n",
    "# Perform dot product of the two embedded layers\n",
    "dot_product = Dot(axes=2)([embedding_layer_user, embedding_layer_item]) # (None,1,1)\n",
    "\n",
    "# Add bias to dot\n",
    "add_bias = dot_product + bias_layer_user + bias_layer_item # (None,1,1)\n",
    "\n",
    "# output\n",
    "output_mf = Flatten()(add_bias) # (None,1)\n",
    "\n",
    "# Create the Keras model as a summ of the main + branch models\n",
    "model = Model(inputs=[input_user, input_item], outputs=output_mf)\n",
    "\n",
    "opt = keras.optimizers.AdamW(learning_rate=0.003)\n",
    "\n",
    "# Compile the model\n",
    "model.compile(optimizer=opt, loss='mean_squared_error', metrics=['root_mean_squared_error'])\n",
    "\n",
    "# Display the model summary\n",
    "model.summary()"
   ]
  },
  {
   "cell_type": "code",
   "execution_count": 20,
   "metadata": {},
   "outputs": [
    {
     "name": "stdout",
     "output_type": "stream",
     "text": [
      "Epoch 1/10\n",
      "\u001b[1m15187/15187\u001b[0m \u001b[32m━━━━━━━━━━━━━━━━━━━━\u001b[0m\u001b[37m\u001b[0m \u001b[1m84s\u001b[0m 6ms/step - loss: 0.9086 - root_mean_squared_error: 0.9227 - val_loss: 0.7644 - val_root_mean_squared_error: 0.8742\n",
      "Epoch 2/10\n",
      "\u001b[1m15187/15187\u001b[0m \u001b[32m━━━━━━━━━━━━━━━━━━━━\u001b[0m\u001b[37m\u001b[0m \u001b[1m85s\u001b[0m 6ms/step - loss: 0.7448 - root_mean_squared_error: 0.8629 - val_loss: 0.7611 - val_root_mean_squared_error: 0.8723\n",
      "Epoch 3/10\n",
      "\u001b[1m15187/15187\u001b[0m \u001b[32m━━━━━━━━━━━━━━━━━━━━\u001b[0m\u001b[37m\u001b[0m \u001b[1m85s\u001b[0m 6ms/step - loss: 0.7372 - root_mean_squared_error: 0.8585 - val_loss: 0.7608 - val_root_mean_squared_error: 0.8722\n",
      "Epoch 4/10\n",
      "\u001b[1m15187/15187\u001b[0m \u001b[32m━━━━━━━━━━━━━━━━━━━━\u001b[0m\u001b[37m\u001b[0m \u001b[1m88s\u001b[0m 6ms/step - loss: 0.7353 - root_mean_squared_error: 0.8574 - val_loss: 0.7613 - val_root_mean_squared_error: 0.8725\n",
      "Epoch 5/10\n",
      "\u001b[1m15187/15187\u001b[0m \u001b[32m━━━━━━━━━━━━━━━━━━━━\u001b[0m\u001b[37m\u001b[0m \u001b[1m141s\u001b[0m 6ms/step - loss: 0.7345 - root_mean_squared_error: 0.8570 - val_loss: 0.7614 - val_root_mean_squared_error: 0.8725\n",
      "Epoch 6/10\n",
      "\u001b[1m15187/15187\u001b[0m \u001b[32m━━━━━━━━━━━━━━━━━━━━\u001b[0m\u001b[37m\u001b[0m \u001b[1m90s\u001b[0m 6ms/step - loss: 0.7336 - root_mean_squared_error: 0.8564 - val_loss: 0.7616 - val_root_mean_squared_error: 0.8726\n",
      "Epoch 7/10\n",
      "\u001b[1m15187/15187\u001b[0m \u001b[32m━━━━━━━━━━━━━━━━━━━━\u001b[0m\u001b[37m\u001b[0m \u001b[1m91s\u001b[0m 6ms/step - loss: 0.7332 - root_mean_squared_error: 0.8562 - val_loss: 0.7615 - val_root_mean_squared_error: 0.8725\n",
      "Epoch 8/10\n",
      "\u001b[1m15187/15187\u001b[0m \u001b[32m━━━━━━━━━━━━━━━━━━━━\u001b[0m\u001b[37m\u001b[0m \u001b[1m95s\u001b[0m 6ms/step - loss: 0.7322 - root_mean_squared_error: 0.8556 - val_loss: 0.7617 - val_root_mean_squared_error: 0.8727\n",
      "Epoch 9/10\n",
      "\u001b[1m15187/15187\u001b[0m \u001b[32m━━━━━━━━━━━━━━━━━━━━\u001b[0m\u001b[37m\u001b[0m \u001b[1m92s\u001b[0m 6ms/step - loss: 0.7325 - root_mean_squared_error: 0.8558 - val_loss: 0.7614 - val_root_mean_squared_error: 0.8725\n",
      "Epoch 10/10\n",
      "\u001b[1m15187/15187\u001b[0m \u001b[32m━━━━━━━━━━━━━━━━━━━━\u001b[0m\u001b[37m\u001b[0m \u001b[1m132s\u001b[0m 9ms/step - loss: 0.7331 - root_mean_squared_error: 0.8561 - val_loss: 0.7622 - val_root_mean_squared_error: 0.8730\n"
     ]
    }
   ],
   "source": [
    "run_hist = model.fit(x=[x_train[:,0], x_train[:,1]], y=y_train, epochs=10, batch_size=256, shuffle=True, validation_split=0.2) "
   ]
  },
  {
   "cell_type": "code",
   "execution_count": 21,
   "metadata": {},
   "outputs": [
    {
     "data": {
      "text/plain": [
       "Text(0.5, 1.0, 'RMSE over iterations')"
      ]
     },
     "execution_count": 21,
     "metadata": {},
     "output_type": "execute_result"
    },
    {
     "data": {
      "image/png": "[encoded data removed]",
      "text/plain": [
       "<Figure size 1200x600 with 2 Axes>"
      ]
     },
     "metadata": {},
     "output_type": "display_data"
    }
   ],
   "source": [
    "n = len(run_hist.history[\"loss\"])\n",
    "\n",
    "fig = plt.figure(figsize=(12, 6))\n",
    "ax = fig.add_subplot(1, 2, 1)\n",
    "ax.plot(range(n), (run_hist.history[\"loss\"]),'r.', label=\"Train Loss\")\n",
    "ax.plot(range(n), (run_hist.history[\"val_loss\"]),'b.', label=\"Validation Loss\")\n",
    "ax.legend()\n",
    "ax.set_title('Loss over iterations')\n",
    "\n",
    "ax = fig.add_subplot(1, 2, 2)\n",
    "ax.plot(range(n), (run_hist.history[\"root_mean_squared_error\"]),'r.', label=\"Train RMSE\")\n",
    "ax.plot(range(n), (run_hist.history[\"val_root_mean_squared_error\"]),'b.', label=\"Validation RMSE\")\n",
    "ax.legend(loc='lower right')\n",
    "ax.set_title('RMSE over iterations')"
   ]
  },
  {
   "cell_type": "code",
   "execution_count": null,
   "metadata": {},
   "outputs": [],
   "source": []
  },
  {
   "cell_type": "code",
   "execution_count": 22,
   "metadata": {},
   "outputs": [
    {
     "name": "stdout",
     "output_type": "stream",
     "text": [
      "\u001b[1m16874/16874\u001b[0m \u001b[32m━━━━━━━━━━━━━━━━━━━━\u001b[0m\u001b[37m\u001b[0m \u001b[1m16s\u001b[0m 923us/step - loss: 0.7601 - root_mean_squared_error: 0.8717\n"
     ]
    }
   ],
   "source": [
    "evaluate = model.evaluate(x=[x_test[:,0], x_test[:,1]], y=y_test)"
   ]
  },
  {
   "cell_type": "code",
   "execution_count": 23,
   "metadata": {},
   "outputs": [
    {
     "name": "stdout",
     "output_type": "stream",
     "text": [
      "Test loss:  0.7613482475280762\n",
      "Test RMSE:  0.8724679350852966\n"
     ]
    }
   ],
   "source": [
    "print('Test loss: ', evaluate[0])\n",
    "print('Test RMSE: ', evaluate[1])"
   ]
  },
  {
   "cell_type": "markdown",
   "metadata": {},
   "source": [
    "With RMSE of around 0.87, the matrix factorization constructed with Keras performs very similarly to our previus CF models. We can try now to improve it further merging the latent features to a fully connected layer."
   ]
  },
  {
   "cell_type": "markdown",
   "metadata": {},
   "source": [
    "## Deep Learning + Matrix Factorization"
   ]
  },
  {
   "cell_type": "markdown",
   "metadata": {},
   "source": [
    "In the next steps, we combine the power of matrix factirization (MF) with deep learning. Matrix factorization is a linear model, thus it can only learn linear patterns from the dataset. \n",
    "We know that artificial neural networks (ANN) can find non-linear patterns. So the idea is to combine both and see if ANN can find residual non-linear patterns neglected by MF."
   ]
  },
  {
   "cell_type": "markdown",
   "metadata": {},
   "source": [
    "We repeat the previous step for creating a matrix factorization model, we then concatenate the embedded layers and pass it as input to our ANN with two fully connected layers.\n",
    "\n",
    "We use the residual learning strategy where the final layers of MF and ANN are added together, and we see if we can capture non-linear patterns neglected by the MF."
   ]
  },
  {
   "cell_type": "code",
   "execution_count": 24,
   "metadata": {},
   "outputs": [
    {
     "data": {
      "text/html": [
       "<pre style=\"white-space:pre;overflow-x:auto;line-height:normal;font-family:Menlo,'DejaVu Sans Mono',consolas,'Courier New',monospace\"><span style=\"font-weight: bold\">Model: \"functional_3\"</span>\n",
       "</pre>\n"
      ],
      "text/plain": [
       "\u001b[1mModel: \"functional_3\"\u001b[0m\n"
      ]
     },
     "metadata": {},
     "output_type": "display_data"
    },
    {
     "data": {
      "text/html": [
       "<pre style=\"white-space:pre;overflow-x:auto;line-height:normal;font-family:Menlo,'DejaVu Sans Mono',consolas,'Courier New',monospace\">┏━━━━━━━━━━━━━━━━━━━━━┳━━━━━━━━━━━━━━━━━━━┳━━━━━━━━━━━━┳━━━━━━━━━━━━━━━━━━━┓\n",
       "┃<span style=\"font-weight: bold\"> Layer (type)        </span>┃<span style=\"font-weight: bold\"> Output Shape      </span>┃<span style=\"font-weight: bold\">    Param # </span>┃<span style=\"font-weight: bold\"> Connected to      </span>┃\n",
       "┡━━━━━━━━━━━━━━━━━━━━━╇━━━━━━━━━━━━━━━━━━━╇━━━━━━━━━━━━╇━━━━━━━━━━━━━━━━━━━┩\n",
       "│ input_layer_2       │ (<span style=\"color: #00d7ff; text-decoration-color: #00d7ff\">None</span>, <span style=\"color: #00af00; text-decoration-color: #00af00\">1</span>)         │          <span style=\"color: #00af00; text-decoration-color: #00af00\">0</span> │ -                 │\n",
       "│ (<span style=\"color: #0087ff; text-decoration-color: #0087ff\">InputLayer</span>)        │                   │            │                   │\n",
       "├─────────────────────┼───────────────────┼────────────┼───────────────────┤\n",
       "│ input_layer_3       │ (<span style=\"color: #00d7ff; text-decoration-color: #00d7ff\">None</span>, <span style=\"color: #00af00; text-decoration-color: #00af00\">1</span>)         │          <span style=\"color: #00af00; text-decoration-color: #00af00\">0</span> │ -                 │\n",
       "│ (<span style=\"color: #0087ff; text-decoration-color: #0087ff\">InputLayer</span>)        │                   │            │                   │\n",
       "├─────────────────────┼───────────────────┼────────────┼───────────────────┤\n",
       "│ embedding_layer_us… │ (<span style=\"color: #00d7ff; text-decoration-color: #00d7ff\">None</span>, <span style=\"color: #00af00; text-decoration-color: #00af00\">1</span>, <span style=\"color: #00af00; text-decoration-color: #00af00\">16</span>)     │  <span style=\"color: #00af00; text-decoration-color: #00af00\">2,198,656</span> │ input_layer_2[<span style=\"color: #00af00; text-decoration-color: #00af00\">0</span>]… │\n",
       "│ (<span style=\"color: #0087ff; text-decoration-color: #0087ff\">Embedding</span>)         │                   │            │                   │\n",
       "├─────────────────────┼───────────────────┼────────────┼───────────────────┤\n",
       "│ embedding_layer_it… │ (<span style=\"color: #00d7ff; text-decoration-color: #00d7ff\">None</span>, <span style=\"color: #00af00; text-decoration-color: #00af00\">1</span>, <span style=\"color: #00af00; text-decoration-color: #00af00\">16</span>)     │     <span style=\"color: #00af00; text-decoration-color: #00af00\">16,000</span> │ input_layer_3[<span style=\"color: #00af00; text-decoration-color: #00af00\">0</span>]… │\n",
       "│ (<span style=\"color: #0087ff; text-decoration-color: #0087ff\">Embedding</span>)         │                   │            │                   │\n",
       "├─────────────────────┼───────────────────┼────────────┼───────────────────┤\n",
       "│ concatenate         │ (<span style=\"color: #00d7ff; text-decoration-color: #00d7ff\">None</span>, <span style=\"color: #00af00; text-decoration-color: #00af00\">1</span>, <span style=\"color: #00af00; text-decoration-color: #00af00\">32</span>)     │          <span style=\"color: #00af00; text-decoration-color: #00af00\">0</span> │ embedding_layer_… │\n",
       "│ (<span style=\"color: #0087ff; text-decoration-color: #0087ff\">Concatenate</span>)       │                   │            │ embedding_layer_… │\n",
       "├─────────────────────┼───────────────────┼────────────┼───────────────────┤\n",
       "│ flatten_2 (<span style=\"color: #0087ff; text-decoration-color: #0087ff\">Flatten</span>) │ (<span style=\"color: #00d7ff; text-decoration-color: #00d7ff\">None</span>, <span style=\"color: #00af00; text-decoration-color: #00af00\">32</span>)        │          <span style=\"color: #00af00; text-decoration-color: #00af00\">0</span> │ concatenate[<span style=\"color: #00af00; text-decoration-color: #00af00\">0</span>][<span style=\"color: #00af00; text-decoration-color: #00af00\">0</span>] │\n",
       "├─────────────────────┼───────────────────┼────────────┼───────────────────┤\n",
       "│ dot_1 (<span style=\"color: #0087ff; text-decoration-color: #0087ff\">Dot</span>)         │ (<span style=\"color: #00d7ff; text-decoration-color: #00d7ff\">None</span>, <span style=\"color: #00af00; text-decoration-color: #00af00\">1</span>, <span style=\"color: #00af00; text-decoration-color: #00af00\">1</span>)      │          <span style=\"color: #00af00; text-decoration-color: #00af00\">0</span> │ embedding_layer_… │\n",
       "│                     │                   │            │ embedding_layer_… │\n",
       "├─────────────────────┼───────────────────┼────────────┼───────────────────┤\n",
       "│ bias_layer_user     │ (<span style=\"color: #00d7ff; text-decoration-color: #00d7ff\">None</span>, <span style=\"color: #00af00; text-decoration-color: #00af00\">1</span>, <span style=\"color: #00af00; text-decoration-color: #00af00\">1</span>)      │    <span style=\"color: #00af00; text-decoration-color: #00af00\">137,416</span> │ input_layer_2[<span style=\"color: #00af00; text-decoration-color: #00af00\">0</span>]… │\n",
       "│ (<span style=\"color: #0087ff; text-decoration-color: #0087ff\">Embedding</span>)         │                   │            │                   │\n",
       "├─────────────────────┼───────────────────┼────────────┼───────────────────┤\n",
       "│ first_dense_layer   │ (<span style=\"color: #00d7ff; text-decoration-color: #00d7ff\">None</span>, <span style=\"color: #00af00; text-decoration-color: #00af00\">32</span>)        │      <span style=\"color: #00af00; text-decoration-color: #00af00\">1,056</span> │ flatten_2[<span style=\"color: #00af00; text-decoration-color: #00af00\">0</span>][<span style=\"color: #00af00; text-decoration-color: #00af00\">0</span>]   │\n",
       "│ (<span style=\"color: #0087ff; text-decoration-color: #0087ff\">Dense</span>)             │                   │            │                   │\n",
       "├─────────────────────┼───────────────────┼────────────┼───────────────────┤\n",
       "│ add_2 (<span style=\"color: #0087ff; text-decoration-color: #0087ff\">Add</span>)         │ (<span style=\"color: #00d7ff; text-decoration-color: #00d7ff\">None</span>, <span style=\"color: #00af00; text-decoration-color: #00af00\">1</span>, <span style=\"color: #00af00; text-decoration-color: #00af00\">1</span>)      │          <span style=\"color: #00af00; text-decoration-color: #00af00\">0</span> │ dot_1[<span style=\"color: #00af00; text-decoration-color: #00af00\">0</span>][<span style=\"color: #00af00; text-decoration-color: #00af00\">0</span>],      │\n",
       "│                     │                   │            │ bias_layer_user[<span style=\"color: #00af00; text-decoration-color: #00af00\">…</span> │\n",
       "├─────────────────────┼───────────────────┼────────────┼───────────────────┤\n",
       "│ bias_layer_item     │ (<span style=\"color: #00d7ff; text-decoration-color: #00d7ff\">None</span>, <span style=\"color: #00af00; text-decoration-color: #00af00\">1</span>, <span style=\"color: #00af00; text-decoration-color: #00af00\">1</span>)      │      <span style=\"color: #00af00; text-decoration-color: #00af00\">1,000</span> │ input_layer_3[<span style=\"color: #00af00; text-decoration-color: #00af00\">0</span>]… │\n",
       "│ (<span style=\"color: #0087ff; text-decoration-color: #0087ff\">Embedding</span>)         │                   │            │                   │\n",
       "├─────────────────────┼───────────────────┼────────────┼───────────────────┤\n",
       "│ dropout_layer       │ (<span style=\"color: #00d7ff; text-decoration-color: #00d7ff\">None</span>, <span style=\"color: #00af00; text-decoration-color: #00af00\">32</span>)        │          <span style=\"color: #00af00; text-decoration-color: #00af00\">0</span> │ first_dense_laye… │\n",
       "│ (<span style=\"color: #0087ff; text-decoration-color: #0087ff\">Dropout</span>)           │                   │            │                   │\n",
       "├─────────────────────┼───────────────────┼────────────┼───────────────────┤\n",
       "│ add_3 (<span style=\"color: #0087ff; text-decoration-color: #0087ff\">Add</span>)         │ (<span style=\"color: #00d7ff; text-decoration-color: #00d7ff\">None</span>, <span style=\"color: #00af00; text-decoration-color: #00af00\">1</span>, <span style=\"color: #00af00; text-decoration-color: #00af00\">1</span>)      │          <span style=\"color: #00af00; text-decoration-color: #00af00\">0</span> │ add_2[<span style=\"color: #00af00; text-decoration-color: #00af00\">0</span>][<span style=\"color: #00af00; text-decoration-color: #00af00\">0</span>],      │\n",
       "│                     │                   │            │ bias_layer_item[<span style=\"color: #00af00; text-decoration-color: #00af00\">…</span> │\n",
       "├─────────────────────┼───────────────────┼────────────┼───────────────────┤\n",
       "│ second_dense_layer  │ (<span style=\"color: #00d7ff; text-decoration-color: #00d7ff\">None</span>, <span style=\"color: #00af00; text-decoration-color: #00af00\">32</span>)        │      <span style=\"color: #00af00; text-decoration-color: #00af00\">1,056</span> │ dropout_layer[<span style=\"color: #00af00; text-decoration-color: #00af00\">0</span>]… │\n",
       "│ (<span style=\"color: #0087ff; text-decoration-color: #0087ff\">Dense</span>)             │                   │            │                   │\n",
       "├─────────────────────┼───────────────────┼────────────┼───────────────────┤\n",
       "│ flatten_1 (<span style=\"color: #0087ff; text-decoration-color: #0087ff\">Flatten</span>) │ (<span style=\"color: #00d7ff; text-decoration-color: #00d7ff\">None</span>, <span style=\"color: #00af00; text-decoration-color: #00af00\">1</span>)         │          <span style=\"color: #00af00; text-decoration-color: #00af00\">0</span> │ add_3[<span style=\"color: #00af00; text-decoration-color: #00af00\">0</span>][<span style=\"color: #00af00; text-decoration-color: #00af00\">0</span>]       │\n",
       "├─────────────────────┼───────────────────┼────────────┼───────────────────┤\n",
       "│ final_layer (<span style=\"color: #0087ff; text-decoration-color: #0087ff\">Dense</span>) │ (<span style=\"color: #00d7ff; text-decoration-color: #00d7ff\">None</span>, <span style=\"color: #00af00; text-decoration-color: #00af00\">1</span>)         │         <span style=\"color: #00af00; text-decoration-color: #00af00\">33</span> │ second_dense_lay… │\n",
       "├─────────────────────┼───────────────────┼────────────┼───────────────────┤\n",
       "│ add_4 (<span style=\"color: #0087ff; text-decoration-color: #0087ff\">Add</span>)         │ (<span style=\"color: #00d7ff; text-decoration-color: #00d7ff\">None</span>, <span style=\"color: #00af00; text-decoration-color: #00af00\">1</span>)         │          <span style=\"color: #00af00; text-decoration-color: #00af00\">0</span> │ flatten_1[<span style=\"color: #00af00; text-decoration-color: #00af00\">0</span>][<span style=\"color: #00af00; text-decoration-color: #00af00\">0</span>],  │\n",
       "│                     │                   │            │ final_layer[<span style=\"color: #00af00; text-decoration-color: #00af00\">0</span>][<span style=\"color: #00af00; text-decoration-color: #00af00\">0</span>] │\n",
       "└─────────────────────┴───────────────────┴────────────┴───────────────────┘\n",
       "</pre>\n"
      ],
      "text/plain": [
       "┏━━━━━━━━━━━━━━━━━━━━━┳━━━━━━━━━━━━━━━━━━━┳━━━━━━━━━━━━┳━━━━━━━━━━━━━━━━━━━┓\n",
       "┃\u001b[1m \u001b[0m\u001b[1mLayer (type)       \u001b[0m\u001b[1m \u001b[0m┃\u001b[1m \u001b[0m\u001b[1mOutput Shape     \u001b[0m\u001b[1m \u001b[0m┃\u001b[1m \u001b[0m\u001b[1m   Param #\u001b[0m\u001b[1m \u001b[0m┃\u001b[1m \u001b[0m\u001b[1mConnected to     \u001b[0m\u001b[1m \u001b[0m┃\n",
       "┡━━━━━━━━━━━━━━━━━━━━━╇━━━━━━━━━━━━━━━━━━━╇━━━━━━━━━━━━╇━━━━━━━━━━━━━━━━━━━┩\n",
       "│ input_layer_2       │ (\u001b[38;5;45mNone\u001b[0m, \u001b[38;5;34m1\u001b[0m)         │          \u001b[38;5;34m0\u001b[0m │ -                 │\n",
       "│ (\u001b[38;5;33mInputLayer\u001b[0m)        │                   │            │                   │\n",
       "├─────────────────────┼───────────────────┼────────────┼───────────────────┤\n",
       "│ input_layer_3       │ (\u001b[38;5;45mNone\u001b[0m, \u001b[38;5;34m1\u001b[0m)         │          \u001b[38;5;34m0\u001b[0m │ -                 │\n",
       "│ (\u001b[38;5;33mInputLayer\u001b[0m)        │                   │            │                   │\n",
       "├─────────────────────┼───────────────────┼────────────┼───────────────────┤\n",
       "│ embedding_layer_us… │ (\u001b[38;5;45mNone\u001b[0m, \u001b[38;5;34m1\u001b[0m, \u001b[38;5;34m16\u001b[0m)     │  \u001b[38;5;34m2,198,656\u001b[0m │ input_layer_2[\u001b[38;5;34m0\u001b[0m]… │\n",
       "│ (\u001b[38;5;33mEmbedding\u001b[0m)         │                   │            │                   │\n",
       "├─────────────────────┼───────────────────┼────────────┼───────────────────┤\n",
       "│ embedding_layer_it… │ (\u001b[38;5;45mNone\u001b[0m, \u001b[38;5;34m1\u001b[0m, \u001b[38;5;34m16\u001b[0m)     │     \u001b[38;5;34m16,000\u001b[0m │ input_layer_3[\u001b[38;5;34m0\u001b[0m]… │\n",
       "│ (\u001b[38;5;33mEmbedding\u001b[0m)         │                   │            │                   │\n",
       "├─────────────────────┼───────────────────┼────────────┼───────────────────┤\n",
       "│ concatenate         │ (\u001b[38;5;45mNone\u001b[0m, \u001b[38;5;34m1\u001b[0m, \u001b[38;5;34m32\u001b[0m)     │          \u001b[38;5;34m0\u001b[0m │ embedding_layer_… │\n",
       "│ (\u001b[38;5;33mConcatenate\u001b[0m)       │                   │            │ embedding_layer_… │\n",
       "├─────────────────────┼───────────────────┼────────────┼───────────────────┤\n",
       "│ flatten_2 (\u001b[38;5;33mFlatten\u001b[0m) │ (\u001b[38;5;45mNone\u001b[0m, \u001b[38;5;34m32\u001b[0m)        │          \u001b[38;5;34m0\u001b[0m │ concatenate[\u001b[38;5;34m0\u001b[0m][\u001b[38;5;34m0\u001b[0m] │\n",
       "├─────────────────────┼───────────────────┼────────────┼───────────────────┤\n",
       "│ dot_1 (\u001b[38;5;33mDot\u001b[0m)         │ (\u001b[38;5;45mNone\u001b[0m, \u001b[38;5;34m1\u001b[0m, \u001b[38;5;34m1\u001b[0m)      │          \u001b[38;5;34m0\u001b[0m │ embedding_layer_… │\n",
       "│                     │                   │            │ embedding_layer_… │\n",
       "├─────────────────────┼───────────────────┼────────────┼───────────────────┤\n",
       "│ bias_layer_user     │ (\u001b[38;5;45mNone\u001b[0m, \u001b[38;5;34m1\u001b[0m, \u001b[38;5;34m1\u001b[0m)      │    \u001b[38;5;34m137,416\u001b[0m │ input_layer_2[\u001b[38;5;34m0\u001b[0m]… │\n",
       "│ (\u001b[38;5;33mEmbedding\u001b[0m)         │                   │            │                   │\n",
       "├─────────────────────┼───────────────────┼────────────┼───────────────────┤\n",
       "│ first_dense_layer   │ (\u001b[38;5;45mNone\u001b[0m, \u001b[38;5;34m32\u001b[0m)        │      \u001b[38;5;34m1,056\u001b[0m │ flatten_2[\u001b[38;5;34m0\u001b[0m][\u001b[38;5;34m0\u001b[0m]   │\n",
       "│ (\u001b[38;5;33mDense\u001b[0m)             │                   │            │                   │\n",
       "├─────────────────────┼───────────────────┼────────────┼───────────────────┤\n",
       "│ add_2 (\u001b[38;5;33mAdd\u001b[0m)         │ (\u001b[38;5;45mNone\u001b[0m, \u001b[38;5;34m1\u001b[0m, \u001b[38;5;34m1\u001b[0m)      │          \u001b[38;5;34m0\u001b[0m │ dot_1[\u001b[38;5;34m0\u001b[0m][\u001b[38;5;34m0\u001b[0m],      │\n",
       "│                     │                   │            │ bias_layer_user[\u001b[38;5;34m…\u001b[0m │\n",
       "├─────────────────────┼───────────────────┼────────────┼───────────────────┤\n",
       "│ bias_layer_item     │ (\u001b[38;5;45mNone\u001b[0m, \u001b[38;5;34m1\u001b[0m, \u001b[38;5;34m1\u001b[0m)      │      \u001b[38;5;34m1,000\u001b[0m │ input_layer_3[\u001b[38;5;34m0\u001b[0m]… │\n",
       "│ (\u001b[38;5;33mEmbedding\u001b[0m)         │                   │            │                   │\n",
       "├─────────────────────┼───────────────────┼────────────┼───────────────────┤\n",
       "│ dropout_layer       │ (\u001b[38;5;45mNone\u001b[0m, \u001b[38;5;34m32\u001b[0m)        │          \u001b[38;5;34m0\u001b[0m │ first_dense_laye… │\n",
       "│ (\u001b[38;5;33mDropout\u001b[0m)           │                   │            │                   │\n",
       "├─────────────────────┼───────────────────┼────────────┼───────────────────┤\n",
       "│ add_3 (\u001b[38;5;33mAdd\u001b[0m)         │ (\u001b[38;5;45mNone\u001b[0m, \u001b[38;5;34m1\u001b[0m, \u001b[38;5;34m1\u001b[0m)      │          \u001b[38;5;34m0\u001b[0m │ add_2[\u001b[38;5;34m0\u001b[0m][\u001b[38;5;34m0\u001b[0m],      │\n",
       "│                     │                   │            │ bias_layer_item[\u001b[38;5;34m…\u001b[0m │\n",
       "├─────────────────────┼───────────────────┼────────────┼───────────────────┤\n",
       "│ second_dense_layer  │ (\u001b[38;5;45mNone\u001b[0m, \u001b[38;5;34m32\u001b[0m)        │      \u001b[38;5;34m1,056\u001b[0m │ dropout_layer[\u001b[38;5;34m0\u001b[0m]… │\n",
       "│ (\u001b[38;5;33mDense\u001b[0m)             │                   │            │                   │\n",
       "├─────────────────────┼───────────────────┼────────────┼───────────────────┤\n",
       "│ flatten_1 (\u001b[38;5;33mFlatten\u001b[0m) │ (\u001b[38;5;45mNone\u001b[0m, \u001b[38;5;34m1\u001b[0m)         │          \u001b[38;5;34m0\u001b[0m │ add_3[\u001b[38;5;34m0\u001b[0m][\u001b[38;5;34m0\u001b[0m]       │\n",
       "├─────────────────────┼───────────────────┼────────────┼───────────────────┤\n",
       "│ final_layer (\u001b[38;5;33mDense\u001b[0m) │ (\u001b[38;5;45mNone\u001b[0m, \u001b[38;5;34m1\u001b[0m)         │         \u001b[38;5;34m33\u001b[0m │ second_dense_lay… │\n",
       "├─────────────────────┼───────────────────┼────────────┼───────────────────┤\n",
       "│ add_4 (\u001b[38;5;33mAdd\u001b[0m)         │ (\u001b[38;5;45mNone\u001b[0m, \u001b[38;5;34m1\u001b[0m)         │          \u001b[38;5;34m0\u001b[0m │ flatten_1[\u001b[38;5;34m0\u001b[0m][\u001b[38;5;34m0\u001b[0m],  │\n",
       "│                     │                   │            │ final_layer[\u001b[38;5;34m0\u001b[0m][\u001b[38;5;34m0\u001b[0m] │\n",
       "└─────────────────────┴───────────────────┴────────────┴───────────────────┘\n"
      ]
     },
     "metadata": {},
     "output_type": "display_data"
    },
    {
     "data": {
      "text/html": [
       "<pre style=\"white-space:pre;overflow-x:auto;line-height:normal;font-family:Menlo,'DejaVu Sans Mono',consolas,'Courier New',monospace\"><span style=\"font-weight: bold\"> Total params: </span><span style=\"color: #00af00; text-decoration-color: #00af00\">2,355,217</span> (8.98 MB)\n",
       "</pre>\n"
      ],
      "text/plain": [
       "\u001b[1m Total params: \u001b[0m\u001b[38;5;34m2,355,217\u001b[0m (8.98 MB)\n"
      ]
     },
     "metadata": {},
     "output_type": "display_data"
    },
    {
     "data": {
      "text/html": [
       "<pre style=\"white-space:pre;overflow-x:auto;line-height:normal;font-family:Menlo,'DejaVu Sans Mono',consolas,'Courier New',monospace\"><span style=\"font-weight: bold\"> Trainable params: </span><span style=\"color: #00af00; text-decoration-color: #00af00\">2,355,217</span> (8.98 MB)\n",
       "</pre>\n"
      ],
      "text/plain": [
       "\u001b[1m Trainable params: \u001b[0m\u001b[38;5;34m2,355,217\u001b[0m (8.98 MB)\n"
      ]
     },
     "metadata": {},
     "output_type": "display_data"
    },
    {
     "data": {
      "text/html": [
       "<pre style=\"white-space:pre;overflow-x:auto;line-height:normal;font-family:Menlo,'DejaVu Sans Mono',consolas,'Courier New',monospace\"><span style=\"font-weight: bold\"> Non-trainable params: </span><span style=\"color: #00af00; text-decoration-color: #00af00\">0</span> (0.00 B)\n",
       "</pre>\n"
      ],
      "text/plain": [
       "\u001b[1m Non-trainable params: \u001b[0m\u001b[38;5;34m0\u001b[0m (0.00 B)\n"
      ]
     },
     "metadata": {},
     "output_type": "display_data"
    }
   ],
   "source": [
    "# Fully connected layer on concatenated embedding layers\n",
    "embedding_size = 16 # K\n",
    "\n",
    "# Define input layers for two sets of data\n",
    "# The batch_size is implicit, so the input dim is (None,1)\n",
    "input_user = Input(shape=(1,)) # (None,1)\n",
    "input_item = Input(shape=(1,)) # (None,1)\n",
    "\n",
    "\n",
    "# Main model - MF\n",
    "# Define embedding layer for user\n",
    "embedding_layer_user = Embedding(input_dim=num_users, output_dim=embedding_size,\n",
    "                                 embeddings_regularizer=keras.regularizers.l2(1e-2),\n",
    "                                 name='embedding_layer_user'\n",
    "                                 )(input_user) # (None,1,K)\n",
    "# Bias is applied per user, hence output_dim=1\n",
    "bias_layer_user = Embedding(input_dim=num_users, output_dim=1, \n",
    "                            name='bias_layer_user')(input_user) # (None,1,1)\n",
    "# Define embedding layer for item\n",
    "embedding_layer_item = Embedding(input_dim=num_items, output_dim=embedding_size,\n",
    "                                 embeddings_regularizer=keras.regularizers.l2(1e-2),\n",
    "                                 name='embedding_layer_item'\n",
    "                                 )(input_item) # (None,1,K)\n",
    "# Bias is applied per item, hence output_dim=1\n",
    "bias_layer_item = Embedding(input_dim=num_items, output_dim=1, \n",
    "                            name='bias_layer_item')(input_item) # (None,1,1)\n",
    "# Perform dot product of the two embedded layers\n",
    "dot_product = Dot(axes=2)([embedding_layer_user, embedding_layer_item]) # (None,1,1)\n",
    "# Add bias to dot\n",
    "add_bias = dot_product + bias_layer_user + bias_layer_item # (None,1,1)\n",
    "# output\n",
    "output_mf = Flatten()(add_bias) # (None,1)\n",
    "\n",
    "\n",
    "# Branch model - ANN\n",
    "dense_size = 32\n",
    "concat_layers = Concatenate()([embedding_layer_user, embedding_layer_item]) # (None,1,2K)\n",
    "\n",
    "concat_layers = Flatten()(concat_layers) #(None,2K)\n",
    "dense_layer1 = Dense(dense_size, activation='relu',\n",
    "                     name='first_dense_layer',\n",
    "                     kernel_regularizer=keras.regularizers.L1(1e-2),\n",
    "                     activity_regularizer=keras.regularizers.L2(1e-2))(concat_layers) # (None,32)\n",
    "dropout = Dropout(0.3,name='dropout_layer')(dense_layer1)  # (None,32)\n",
    "dense_layer2 = Dense(dense_size, activation='relu',\n",
    "                     name='second_dense_layer',\n",
    "                     kernel_regularizer=keras.regularizers.L1(1e-2),\n",
    "                     activity_regularizer=keras.regularizers.L2(1e-2))(dropout) # (None,32)\n",
    "output_ann = Dense(1, activation=None,\n",
    "                     name='final_layer')(dense_layer2) # (None,1)\n",
    "\n",
    "# The output of the residual learning model. This part unifies the main model MF with the branch model ANN\n",
    "residual = output_mf + output_ann # (None,1)\n",
    "\n",
    "# Create the Keras model\n",
    "model_rl = Model(inputs=[input_user, input_item], outputs=residual)\n",
    "opt = keras.optimizers.AdamW(learning_rate=0.003)\n",
    "\n",
    "# Compile the model\n",
    "model_rl.compile(optimizer=opt, loss='mean_squared_error', metrics=['root_mean_squared_error'])\n",
    "\n",
    "# Display the model summary\n",
    "model_rl.summary()"
   ]
  },
  {
   "cell_type": "code",
   "execution_count": 25,
   "metadata": {},
   "outputs": [
    {
     "name": "stdout",
     "output_type": "stream",
     "text": [
      "Epoch 1/10\n",
      "\u001b[1m15187/15187\u001b[0m \u001b[32m━━━━━━━━━━━━━━━━━━━━\u001b[0m\u001b[37m\u001b[0m \u001b[1m112s\u001b[0m 7ms/step - loss: 0.9633 - root_mean_squared_error: 0.9217 - val_loss: 0.7718 - val_root_mean_squared_error: 0.8740\n",
      "Epoch 2/10\n",
      "\u001b[1m15187/15187\u001b[0m \u001b[32m━━━━━━━━━━━━━━━━━━━━\u001b[0m\u001b[37m\u001b[0m \u001b[1m111s\u001b[0m 7ms/step - loss: 0.7536 - root_mean_squared_error: 0.8636 - val_loss: 0.7687 - val_root_mean_squared_error: 0.8724\n",
      "Epoch 3/10\n",
      "\u001b[1m15187/15187\u001b[0m \u001b[32m━━━━━━━━━━━━━━━━━━━━\u001b[0m\u001b[37m\u001b[0m \u001b[1m112s\u001b[0m 7ms/step - loss: 0.7443 - root_mean_squared_error: 0.8582 - val_loss: 0.7682 - val_root_mean_squared_error: 0.8722\n",
      "Epoch 4/10\n",
      "\u001b[1m15187/15187\u001b[0m \u001b[32m━━━━━━━━━━━━━━━━━━━━\u001b[0m\u001b[37m\u001b[0m \u001b[1m113s\u001b[0m 7ms/step - loss: 0.7413 - root_mean_squared_error: 0.8565 - val_loss: 0.7687 - val_root_mean_squared_error: 0.8723\n",
      "Epoch 5/10\n",
      "\u001b[1m15187/15187\u001b[0m \u001b[32m━━━━━━━━━━━━━━━━━━━━\u001b[0m\u001b[37m\u001b[0m \u001b[1m110s\u001b[0m 7ms/step - loss: 0.7415 - root_mean_squared_error: 0.8566 - val_loss: 0.7689 - val_root_mean_squared_error: 0.8725\n",
      "Epoch 6/10\n",
      "\u001b[1m15187/15187\u001b[0m \u001b[32m━━━━━━━━━━━━━━━━━━━━\u001b[0m\u001b[37m\u001b[0m \u001b[1m110s\u001b[0m 7ms/step - loss: 0.7393 - root_mean_squared_error: 0.8554 - val_loss: 0.7688 - val_root_mean_squared_error: 0.8725\n",
      "Epoch 7/10\n",
      "\u001b[1m15187/15187\u001b[0m \u001b[32m━━━━━━━━━━━━━━━━━━━━\u001b[0m\u001b[37m\u001b[0m \u001b[1m110s\u001b[0m 7ms/step - loss: 0.7408 - root_mean_squared_error: 0.8563 - val_loss: 0.7690 - val_root_mean_squared_error: 0.8726\n",
      "Epoch 8/10\n",
      "\u001b[1m15187/15187\u001b[0m \u001b[32m━━━━━━━━━━━━━━━━━━━━\u001b[0m\u001b[37m\u001b[0m \u001b[1m108s\u001b[0m 7ms/step - loss: 0.7403 - root_mean_squared_error: 0.8560 - val_loss: 0.7693 - val_root_mean_squared_error: 0.8729\n",
      "Epoch 9/10\n",
      "\u001b[1m15187/15187\u001b[0m \u001b[32m━━━━━━━━━━━━━━━━━━━━\u001b[0m\u001b[37m\u001b[0m \u001b[1m108s\u001b[0m 7ms/step - loss: 0.7397 - root_mean_squared_error: 0.8556 - val_loss: 0.7691 - val_root_mean_squared_error: 0.8727\n",
      "Epoch 10/10\n",
      "\u001b[1m15187/15187\u001b[0m \u001b[32m━━━━━━━━━━━━━━━━━━━━\u001b[0m\u001b[37m\u001b[0m \u001b[1m107s\u001b[0m 7ms/step - loss: 0.7390 - root_mean_squared_error: 0.8553 - val_loss: 0.7695 - val_root_mean_squared_error: 0.8729\n"
     ]
    }
   ],
   "source": [
    "run_hist_rl = model_rl.fit(x=[x_train[:,0],x_train[:,1]], y=y_train, epochs=10, batch_size=256, shuffle=True, validation_split=0.2) "
   ]
  },
  {
   "cell_type": "code",
   "execution_count": 26,
   "metadata": {},
   "outputs": [
    {
     "data": {
      "text/plain": [
       "Text(0.5, 1.0, 'RMSE over iterations')"
      ]
     },
     "execution_count": 26,
     "metadata": {},
     "output_type": "execute_result"
    },
    {
     "data": {
      "image/png": "[encoded data removed]",
      "text/plain": [
       "<Figure size 1200x600 with 2 Axes>"
      ]
     },
     "metadata": {},
     "output_type": "display_data"
    }
   ],
   "source": [
    "n = len(run_hist_rl.history[\"loss\"])\n",
    "\n",
    "fig = plt.figure(figsize=(12, 6))\n",
    "ax = fig.add_subplot(1, 2, 1)\n",
    "ax.plot(range(n), (run_hist_rl.history[\"loss\"]),'r.', label=\"Train Loss\")\n",
    "ax.plot(range(n), (run_hist_rl.history[\"val_loss\"]),'b.', label=\"Validation Loss\")\n",
    "ax.legend()\n",
    "ax.set_title('Loss over iterations')\n",
    "\n",
    "ax = fig.add_subplot(1, 2, 2)\n",
    "ax.plot(range(n), (run_hist_rl.history[\"root_mean_squared_error\"]),'r.', label=\"Train RMSE\")\n",
    "ax.plot(range(n), (run_hist_rl.history[\"val_root_mean_squared_error\"]),'b.', label=\"Validation RMSE\")\n",
    "ax.legend(loc='lower right')\n",
    "ax.set_title('RMSE over iterations')"
   ]
  },
  {
   "cell_type": "code",
   "execution_count": null,
   "metadata": {},
   "outputs": [],
   "source": []
  },
  {
   "cell_type": "code",
   "execution_count": 27,
   "metadata": {},
   "outputs": [
    {
     "name": "stdout",
     "output_type": "stream",
     "text": [
      "\u001b[1m16874/16874\u001b[0m \u001b[32m━━━━━━━━━━━━━━━━━━━━\u001b[0m\u001b[37m\u001b[0m \u001b[1m15s\u001b[0m 887us/step - loss: 0.7676 - root_mean_squared_error: 0.8719\n",
      "Test loss:  0.7686367630958557\n",
      "Test RMSE:  0.8724441528320312\n"
     ]
    }
   ],
   "source": [
    "evaluate_rl = model_rl.evaluate(x=[x_test[:,0], x_test[:,1]], y=y_test)\n",
    "\n",
    "print('Test loss: ', evaluate_rl[0])\n",
    "print('Test RMSE: ', evaluate_rl[1])"
   ]
  },
  {
   "cell_type": "markdown",
   "metadata": {},
   "source": [
    "We see here that the RMSE of our residual learning model does not improve on our MF RMSE score. It indicates that there is no non-linear pattern that can be leant by the residuals. "
   ]
  },
  {
   "cell_type": "markdown",
   "metadata": {},
   "source": [
    "## Matrix Factorization from Surprise library"
   ]
  },
  {
   "cell_type": "markdown",
   "metadata": {},
   "source": [
    "As we did before with collaborative filtering, we compare our homemade models with the same ones from the specialized Surprise library."
   ]
  },
  {
   "cell_type": "code",
   "execution_count": 28,
   "metadata": {},
   "outputs": [],
   "source": [
    "from surprise import NMF\n",
    "from surprise import Dataset, Reader\n",
    "from surprise.model_selection import train_test_split\n",
    "from surprise import accuracy"
   ]
  },
  {
   "cell_type": "code",
   "execution_count": 29,
   "metadata": {},
   "outputs": [],
   "source": [
    "sample_items_df = sample_items_df.drop('shifted',axis=1)\n",
    "sample_items_df.to_csv('sample_df.csv', index=False, header=list(sample_items_df.columns))"
   ]
  },
  {
   "cell_type": "code",
   "execution_count": 30,
   "metadata": {},
   "outputs": [],
   "source": [
    "# create the reader object with Read on the rating dataset with columns user item rating\n",
    "reader = Reader(line_format='user item rating', sep=',', skip_lines=1, rating_scale=(0.5, 5))\n",
    "\n",
    "# Load the dataset from the CSV file\n",
    "course_dataset = Dataset.load_from_file(\"sample_df.csv\", reader=reader)"
   ]
  },
  {
   "cell_type": "code",
   "execution_count": 31,
   "metadata": {},
   "outputs": [],
   "source": [
    "trainset, testset = train_test_split(course_dataset, test_size=.1)"
   ]
  },
  {
   "cell_type": "code",
   "execution_count": 32,
   "metadata": {},
   "outputs": [
    {
     "name": "stdout",
     "output_type": "stream",
     "text": [
      "Total 137218 users and 1000 items in the training set\n"
     ]
    }
   ],
   "source": [
    "# check how many users and items we can use to fit a KNN model:\n",
    "print(f\"Total {trainset.n_users} users and {trainset.n_items} items in the training set\")"
   ]
  },
  {
   "cell_type": "code",
   "execution_count": 33,
   "metadata": {},
   "outputs": [
    {
     "name": "stdout",
     "output_type": "stream",
     "text": [
      "RMSE: 0.8758\n"
     ]
    },
    {
     "data": {
      "text/plain": [
       "0.8757889245584947"
      ]
     },
     "execution_count": 33,
     "metadata": {},
     "output_type": "execute_result"
    }
   ],
   "source": [
    "# Build the NMF model\n",
    "# An NMF (Non-negative Matrix Factorization) model is instantiated and trained on the training set\n",
    "model_NMF = NMF(random_state = rs)\n",
    "\n",
    "# Train the model\n",
    "model_NMF.fit(trainset)\n",
    "\n",
    "# Make predictions with NMF on the test set\n",
    "predictions_nmf = model_NMF.test(testset)\n",
    "\n",
    "# Evaluate the model\n",
    "accuracy.rmse(predictions_nmf)"
   ]
  },
  {
   "cell_type": "markdown",
   "metadata": {},
   "source": [
    "And we see that the RMSE is (almost) the same we obtained with Keras!"
   ]
  },
  {
   "cell_type": "markdown",
   "metadata": {},
   "source": [
    "## Use our model to make recommendations."
   ]
  },
  {
   "cell_type": "markdown",
   "metadata": {},
   "source": [
    "We sample 20 random users and make recommendations for them."
   ]
  },
  {
   "cell_type": "code",
   "execution_count": 34,
   "metadata": {},
   "outputs": [
    {
     "data": {
      "text/plain": [
       "Index(['userId', 'movieId', 'rating'], dtype='object')"
      ]
     },
     "execution_count": 34,
     "metadata": {},
     "output_type": "execute_result"
    }
   ],
   "source": [
    "sample_items_df.columns"
   ]
  },
  {
   "cell_type": "code",
   "execution_count": 35,
   "metadata": {},
   "outputs": [],
   "source": [
    "# a list of 20 users we want to provide recommendations\n",
    "users = sample_items_df['userId'].sample(20, random_state=rs).to_list()"
   ]
  },
  {
   "cell_type": "code",
   "execution_count": 36,
   "metadata": {},
   "outputs": [],
   "source": [
    "def users_recommend(x,n):\n",
    "    \"\"\"\n",
    "    Function that returns a DataFrame with: users, user interactions, rated movies, n movie recommendations.\n",
    "    Input: a list of user I want to provide N recommendations. N integer.\n",
    "    Output: DataFrame\n",
    "\n",
    "    The sample_items_df, where the model was trained on is implicit.\n",
    "    \"\"\"\n",
    "\n",
    "    users = x # list of users \n",
    "\n",
    "    # df is the filtered dataframe where userId.isin(users)\n",
    "    df = sample_items_df[sample_items_df['userId'].isin(users)]\n",
    "    \n",
    "    value_count = df['userId'].value_counts() # pd.Series with total number of items user i have interacted with\n",
    "\n",
    "    # initiate some list to construct the dictionary later\n",
    "    interacted = []\n",
    "    interactions = []\n",
    "    user_recommend = []\n",
    "\n",
    "    # movie_all is the set of all movies in the sample_items_df\n",
    "    movie_all = set(sample_items_df['movieId'].unique()) \n",
    "\n",
    "    # look over users\n",
    "    for i in users:\n",
    "        # total number of items user i have interacted with\n",
    "        interactions.append(value_count[i]) \n",
    "\n",
    "        # list of items user i has interacted with\n",
    "        items_i = df[df['userId']==i]['movieId'].to_list() \n",
    "        interacted.append(items_i) \n",
    "\n",
    "        # list of items user i have not interacted with\n",
    "        not_interacted = list(movie_all.difference(set(items_i)))\n",
    "\n",
    "        # before making predictions, we should remind that the [user,item] \n",
    "        # passed to model are Label Encoded [user,item], and not original Ids\n",
    "        x_user = label_encoder_user.transform([i]) # Label encoded user_i\n",
    "        x_item = label_encoder_item.transform(not_interacted) # Label encoder items user_i have not interacted with\n",
    "\n",
    "        x_test = [[x_user[0],k] for k in x_item] # [user_i, items] in the same shape as x_train, x_test\n",
    "        x_test = np.array(x_test)\n",
    "        \n",
    "        # we now make preditions using trained model\n",
    "        pred = model_rl.predict([x_test[:,0],x_test[:,1]]) \n",
    "\n",
    "        # make a tuple (item,predict)\n",
    "        # \"label_encoder_item.inverse_transform(x_item)\" is equivalent \"to not_interacted\"\n",
    "        x_test_pred = [(k, l[0]+mu) for k,l in zip(label_encoder_item.inverse_transform(x_item),pred)] \n",
    "        # notice mu was added back to prediction \n",
    "\n",
    "        # sort by the second element: predicted rating using key=lambda x:x[1]\n",
    "        x_test_sorted = sorted(x_test_pred, key=lambda x:x[1], reverse=True)\n",
    "\n",
    "        # n recommendations for user i from x_test_sorted\n",
    "        recmm_i = [k[0] for k in x_test_sorted[:n]] \n",
    "        user_recommend.append(recmm_i) # append it to recommendation list\n",
    "\n",
    "    # the dictionary will be used to construct a dataframe user_df\n",
    "    dic = {'userId':users, 'user interactions':interactions ,'rated movieId':interacted, 'movie recommendations': user_recommend}\n",
    "    users_df = pd.DataFrame(dic)\n",
    "    \n",
    "    return users_df"
   ]
  },
  {
   "cell_type": "code",
   "execution_count": 37,
   "metadata": {},
   "outputs": [],
   "source": [
    "pd.set_option('max_colwidth', None)"
   ]
  },
  {
   "cell_type": "code",
   "execution_count": 38,
   "metadata": {},
   "outputs": [
    {
     "name": "stdout",
     "output_type": "stream",
     "text": [
      "\u001b[1m25/25\u001b[0m \u001b[32m━━━━━━━━━━━━━━━━━━━━\u001b[0m\u001b[37m\u001b[0m \u001b[1m0s\u001b[0m 2ms/step \n",
      "\u001b[1m29/29\u001b[0m \u001b[32m━━━━━━━━━━━━━━━━━━━━\u001b[0m\u001b[37m\u001b[0m \u001b[1m0s\u001b[0m 476us/step\n",
      "\u001b[1m30/30\u001b[0m \u001b[32m━━━━━━━━━━━━━━━━━━━━\u001b[0m\u001b[37m\u001b[0m \u001b[1m0s\u001b[0m 461us/step\n",
      "\u001b[1m30/30\u001b[0m \u001b[32m━━━━━━━━━━━━━━━━━━━━\u001b[0m\u001b[37m\u001b[0m \u001b[1m0s\u001b[0m 384us/step\n",
      "\u001b[1m27/27\u001b[0m \u001b[32m━━━━━━━━━━━━━━━━━━━━\u001b[0m\u001b[37m\u001b[0m \u001b[1m0s\u001b[0m 374us/step\n",
      "\u001b[1m27/27\u001b[0m \u001b[32m━━━━━━━━━━━━━━━━━━━━\u001b[0m\u001b[37m\u001b[0m \u001b[1m0s\u001b[0m 357us/step\n",
      "\u001b[1m26/26\u001b[0m \u001b[32m━━━━━━━━━━━━━━━━━━━━\u001b[0m\u001b[37m\u001b[0m \u001b[1m0s\u001b[0m 361us/step\n",
      "\u001b[1m28/28\u001b[0m \u001b[32m━━━━━━━━━━━━━━━━━━━━\u001b[0m\u001b[37m\u001b[0m \u001b[1m0s\u001b[0m 348us/step\n",
      "\u001b[1m32/32\u001b[0m \u001b[32m━━━━━━━━━━━━━━━━━━━━\u001b[0m\u001b[37m\u001b[0m \u001b[1m0s\u001b[0m 357us/step\n",
      "\u001b[1m31/31\u001b[0m \u001b[32m━━━━━━━━━━━━━━━━━━━━\u001b[0m\u001b[37m\u001b[0m \u001b[1m0s\u001b[0m 361us/step\n",
      "\u001b[1m31/31\u001b[0m \u001b[32m━━━━━━━━━━━━━━━━━━━━\u001b[0m\u001b[37m\u001b[0m \u001b[1m0s\u001b[0m 348us/step\n",
      "\u001b[1m30/30\u001b[0m \u001b[32m━━━━━━━━━━━━━━━━━━━━\u001b[0m\u001b[37m\u001b[0m \u001b[1m0s\u001b[0m 344us/step\n",
      "\u001b[1m29/29\u001b[0m \u001b[32m━━━━━━━━━━━━━━━━━━━━\u001b[0m\u001b[37m\u001b[0m \u001b[1m0s\u001b[0m 355us/step\n",
      "\u001b[1m29/29\u001b[0m \u001b[32m━━━━━━━━━━━━━━━━━━━━\u001b[0m\u001b[37m\u001b[0m \u001b[1m0s\u001b[0m 354us/step\n",
      "\u001b[1m30/30\u001b[0m \u001b[32m━━━━━━━━━━━━━━━━━━━━\u001b[0m\u001b[37m\u001b[0m \u001b[1m0s\u001b[0m 344us/step\n",
      "\u001b[1m30/30\u001b[0m \u001b[32m━━━━━━━━━━━━━━━━━━━━\u001b[0m\u001b[37m\u001b[0m \u001b[1m0s\u001b[0m 345us/step\n",
      "\u001b[1m31/31\u001b[0m \u001b[32m━━━━━━━━━━━━━━━━━━━━\u001b[0m\u001b[37m\u001b[0m \u001b[1m0s\u001b[0m 352us/step\n",
      "\u001b[1m26/26\u001b[0m \u001b[32m━━━━━━━━━━━━━━━━━━━━\u001b[0m\u001b[37m\u001b[0m \u001b[1m0s\u001b[0m 363us/step\n",
      "\u001b[1m30/30\u001b[0m \u001b[32m━━━━━━━━━━━━━━━━━━━━\u001b[0m\u001b[37m\u001b[0m \u001b[1m0s\u001b[0m 365us/step\n",
      "\u001b[1m24/24\u001b[0m \u001b[32m━━━━━━━━━━━━━━━━━━━━\u001b[0m\u001b[37m\u001b[0m \u001b[1m0s\u001b[0m 367us/step\n"
     ]
    },
    {
     "data": {
      "text/html": [
       "<div>\n",
       "<style scoped>\n",
       "    .dataframe tbody tr th:only-of-type {\n",
       "        vertical-align: middle;\n",
       "    }\n",
       "\n",
       "    .dataframe tbody tr th {\n",
       "        vertical-align: top;\n",
       "    }\n",
       "\n",
       "    .dataframe thead th {\n",
       "        text-align: right;\n",
       "    }\n",
       "</style>\n",
       "<table border=\"1\" class=\"dataframe\">\n",
       "  <thead>\n",
       "    <tr style=\"text-align: right;\">\n",
       "      <th></th>\n",
       "      <th>userId</th>\n",
       "      <th>user interactions</th>\n",
       "      <th>rated movieId</th>\n",
       "      <th>movie recommendations</th>\n",
       "    </tr>\n",
       "  </thead>\n",
       "  <tbody>\n",
       "    <tr>\n",
       "      <th>0</th>\n",
       "      <td>26926</td>\n",
       "      <td>214</td>\n",
       "      <td>[1, 3, 4, 5, 7, 11, 12, 15, 19, 21, 29, 32, 39, 44, 47, 50, 52, 58, 63, 64, 65, 70, 85, 87, 92, 93, 101, 102, 104, 107, 110, 111, 118, 122, 141, 144, 147, 150, 152, 153, 156, 160, 162, 168, 170, 172, 180, 181, 185, 186, 195, 196, 203, 204, 208, 216, 218, 223, 231, 234, 235, 236, 237, 239, 248, 252, 253, 255, 258, 260, 288, 292, 296, 300, 303, 312, 316, 318, 319, 325, 327, 328, 329, 330, 337, 339, 342, 344, 349, 350, 351, 353, 355, 356, 357, 364, 366, 367, 368, 370, ...]</td>\n",
       "      <td>[858, 527, 668, 912, 904, 922, 898, 908, 903, 913]</td>\n",
       "    </tr>\n",
       "    <tr>\n",
       "      <th>1</th>\n",
       "      <td>105856</td>\n",
       "      <td>75</td>\n",
       "      <td>[1, 6, 10, 16, 19, 21, 25, 32, 39, 47, 50, 70, 97, 110, 111, 150, 165, 173, 193, 196, 223, 231, 247, 253, 266, 288, 292, 293, 296, 318, 319, 337, 344, 349, 350, 356, 357, 376, 377, 434, 454, 457, 474, 480, 508, 527, 541, 551, 555, 589, 590, 593, 597, 608, 616, 628, 648, 720, 736, 745, 750, 778, 780, 832, 858, 902, 903, 904, 908, 910, 912, 913, 920, 923, 924]</td>\n",
       "      <td>[668, 922, 898, 930, 926, 665, 306, 213, 632, 905]</td>\n",
       "    </tr>\n",
       "    <tr>\n",
       "      <th>2</th>\n",
       "      <td>126135</td>\n",
       "      <td>64</td>\n",
       "      <td>[7, 17, 34, 41, 48, 62, 73, 110, 111, 181, 290, 296, 303, 345, 356, 357, 363, 364, 455, 480, 484, 497, 502, 515, 527, 539, 575, 586, 588, 590, 593, 594, 595, 596, 599, 608, 661, 691, 708, 711, 728, 783, 838, 892, 904, 906, 908, 910, 911, 912, 913, 914, 915, 916, 919, 920, 922, 923, 933, 934, 936, 937, 945, 952]</td>\n",
       "      <td>[318, 858, 668, 750, 50, 898, 903, 745, 930, 926]</td>\n",
       "    </tr>\n",
       "    <tr>\n",
       "      <th>3</th>\n",
       "      <td>127247</td>\n",
       "      <td>59</td>\n",
       "      <td>[1, 6, 16, 21, 25, 32, 47, 50, 58, 101, 105, 110, 111, 125, 150, 161, 215, 223, 253, 296, 306, 308, 318, 346, 356, 357, 364, 377, 380, 431, 457, 480, 517, 527, 539, 541, 555, 589, 590, 593, 595, 597, 608, 628, 648, 733, 778, 780, 858, 903, 906, 910, 912, 919, 920, 930, 931, 968, 1017]</td>\n",
       "      <td>[668, 904, 750, 922, 898, 908, 913, 745, 926, 665]</td>\n",
       "    </tr>\n",
       "    <tr>\n",
       "      <th>4</th>\n",
       "      <td>10365</td>\n",
       "      <td>139</td>\n",
       "      <td>[1, 6, 10, 11, 17, 21, 25, 30, 32, 34, 36, 39, 41, 45, 46, 47, 48, 50, 69, 70, 80, 85, 110, 117, 120, 123, 135, 144, 145, 150, 154, 163, 165, 175, 190, 194, 195, 199, 213, 223, 228, 232, 235, 237, 241, 247, 248, 253, 260, 272, 277, 288, 290, 296, 301, 305, 309, 310, 317, 318, 321, 326, 344, 349, 352, 353, 356, 357, 364, 368, 377, 380, 414, 429, 438, 440, 441, 446, 456, 457, 458, 460, 474, 480, 493, 497, 500, 508, 509, 511, 514, 517, 519, 523, 527, 532, 534, 539, 541, 544, ...]</td>\n",
       "      <td>[858, 668, 912, 904, 750, 922, 898, 908, 903, 913]</td>\n",
       "    </tr>\n",
       "    <tr>\n",
       "      <th>5</th>\n",
       "      <td>126443</td>\n",
       "      <td>150</td>\n",
       "      <td>[1, 5, 6, 7, 10, 11, 16, 17, 22, 24, 26, 27, 32, 36, 39, 41, 43, 45, 46, 47, 48, 62, 64, 70, 86, 89, 95, 107, 110, 141, 150, 153, 160, 168, 185, 188, 196, 203, 207, 208, 218, 222, 234, 249, 253, 256, 260, 261, 266, 273, 276, 280, 282, 292, 296, 300, 317, 329, 343, 345, 346, 349, 350, 356, 357, 364, 366, 367, 368, 372, 374, 375, 377, 386, 405, 410, 412, 423, 435, 440, 446, 450, 454, 455, 457, 468, 471, 474, 475, 480, 491, 497, 500, 502, 507, 508, 512, 515, 517, 520, ...]</td>\n",
       "      <td>[318, 858, 668, 912, 904, 50, 922, 898, 908, 903]</td>\n",
       "    </tr>\n",
       "    <tr>\n",
       "      <th>6</th>\n",
       "      <td>132185</td>\n",
       "      <td>170</td>\n",
       "      <td>[1, 2, 5, 6, 10, 11, 12, 16, 17, 19, 20, 21, 22, 32, 34, 36, 39, 44, 47, 50, 60, 63, 65, 66, 69, 70, 93, 95, 101, 104, 110, 111, 145, 150, 153, 163, 165, 172, 173, 174, 180, 181, 185, 196, 203, 208, 216, 223, 231, 235, 253, 256, 260, 266, 267, 276, 288, 293, 296, 303, 316, 318, 319, 328, 329, 332, 333, 337, 339, 342, 344, 353, 355, 356, 357, 364, 367, 368, 370, 372, 374, 377, 379, 380, 382, 386, 393, 397, 405, 410, 434, 435, 436, 440, 441, 442, 454, 457, 460, 464, ...]</td>\n",
       "      <td>[668, 922, 898, 745, 930, 926, 665, 306, 213, 632]</td>\n",
       "    </tr>\n",
       "    <tr>\n",
       "      <th>7</th>\n",
       "      <td>53029</td>\n",
       "      <td>135</td>\n",
       "      <td>[1, 2, 5, 7, 10, 11, 13, 21, 25, 32, 34, 39, 48, 50, 52, 58, 62, 86, 104, 110, 135, 140, 141, 150, 153, 158, 160, 161, 163, 168, 185, 205, 208, 224, 225, 231, 249, 252, 256, 260, 262, 288, 301, 316, 318, 329, 333, 337, 339, 344, 349, 356, 357, 362, 364, 367, 368, 371, 372, 376, 377, 380, 383, 410, 440, 442, 454, 455, 457, 468, 471, 474, 480, 485, 497, 500, 517, 527, 529, 534, 539, 543, 551, 585, 587, 588, 589, 590, 592, 594, 595, 596, 597, 603, 605, 608, 648, 653, 661, 671, ...]</td>\n",
       "      <td>[668, 904, 922, 898, 913, 745, 930, 926, 665, 306]</td>\n",
       "    </tr>\n",
       "    <tr>\n",
       "      <th>8</th>\n",
       "      <td>52862</td>\n",
       "      <td>7</td>\n",
       "      <td>[180, 193, 273, 362, 531, 719, 849]</td>\n",
       "      <td>[318, 858, 527, 668, 912, 904, 750, 50, 922, 898]</td>\n",
       "    </tr>\n",
       "    <tr>\n",
       "      <th>9</th>\n",
       "      <td>47708</td>\n",
       "      <td>9</td>\n",
       "      <td>[158, 342, 356, 435, 520, 597, 661, 720, 745]</td>\n",
       "      <td>[318, 858, 527, 668, 912, 904, 750, 50, 922, 898]</td>\n",
       "    </tr>\n",
       "    <tr>\n",
       "      <th>10</th>\n",
       "      <td>55813</td>\n",
       "      <td>35</td>\n",
       "      <td>[1, 2, 39, 104, 110, 150, 231, 260, 277, 296, 317, 356, 364, 480, 500, 520, 539, 586, 588, 593, 595, 596, 648, 673, 736, 750, 783, 899, 904, 912, 919, 922, 923, 924, 953]</td>\n",
       "      <td>[318, 858, 527, 668, 50, 898, 908, 903, 913, 745]</td>\n",
       "    </tr>\n",
       "    <tr>\n",
       "      <th>11</th>\n",
       "      <td>12247</td>\n",
       "      <td>59</td>\n",
       "      <td>[1, 11, 17, 19, 21, 32, 34, 36, 39, 47, 50, 62, 110, 150, 151, 153, 160, 161, 165, 185, 186, 196, 208, 225, 231, 235, 236, 252, 253, 266, 282, 288, 292, 293, 296, 316, 317, 318, 329, 337, 339, 344, 349, 380, 410, 412, 432, 434, 435, 457, 527, 553, 587, 588, 590, 592, 593, 595, 597]</td>\n",
       "      <td>[858, 668, 912, 904, 750, 922, 898, 908, 903, 913]</td>\n",
       "    </tr>\n",
       "    <tr>\n",
       "      <th>12</th>\n",
       "      <td>63614</td>\n",
       "      <td>98</td>\n",
       "      <td>[1, 3, 10, 12, 16, 34, 39, 44, 47, 50, 70, 74, 95, 104, 110, 111, 112, 141, 150, 153, 179, 180, 185, 188, 203, 208, 215, 223, 231, 236, 249, 253, 260, 261, 282, 288, 296, 317, 318, 319, 332, 344, 353, 356, 364, 367, 377, 380, 410, 420, 426, 440, 441, 442, 457, 466, 468, 480, 485, 500, 524, 527, 540, 542, 546, 550, 551, 552, 586, 587, 588, 589, 592, 593, 595, 597, 606, 611, 648, 662, 708, 724, 733, 736, 778, 780, 784, 788, 799, 839, 842, 849, 858, 891, 908, 919, 920, 998]</td>\n",
       "      <td>[668, 912, 904, 750, 922, 898, 903, 913, 745, 930]</td>\n",
       "    </tr>\n",
       "    <tr>\n",
       "      <th>13</th>\n",
       "      <td>34452</td>\n",
       "      <td>91</td>\n",
       "      <td>[1, 17, 18, 19, 26, 32, 34, 39, 45, 47, 50, 52, 70, 97, 110, 111, 147, 153, 154, 158, 175, 199, 222, 223, 233, 253, 260, 261, 262, 265, 266, 272, 273, 277, 288, 296, 337, 342, 344, 345, 350, 357, 410, 421, 441, 481, 500, 527, 531, 551, 555, 567, 581, 587, 588, 592, 595, 596, 597, 616, 674, 708, 724, 778, 781, 783, 784, 828, 830, 837, 838, 880, 899, 900, 902, 903, 910, 914, 918, 919, 920, 922, 923, 926, 942, 945, 949, 951, 971, 986, 1014]</td>\n",
       "      <td>[318, 858, 668, 912, 904, 750, 898, 908, 913, 745]</td>\n",
       "    </tr>\n",
       "    <tr>\n",
       "      <th>14</th>\n",
       "      <td>32050</td>\n",
       "      <td>56</td>\n",
       "      <td>[1, 7, 10, 32, 34, 50, 55, 80, 82, 150, 185, 194, 203, 208, 215, 233, 246, 282, 296, 302, 306, 314, 318, 334, 337, 345, 348, 357, 369, 480, 508, 509, 523, 529, 535, 539, 541, 550, 551, 586, 587, 590, 593, 595, 596, 597, 608, 724, 728, 778, 780, 800, 858, 938, 969, 994]</td>\n",
       "      <td>[527, 668, 912, 904, 750, 922, 898, 908, 903, 913]</td>\n",
       "    </tr>\n",
       "    <tr>\n",
       "      <th>15</th>\n",
       "      <td>58586</td>\n",
       "      <td>46</td>\n",
       "      <td>[1, 2, 21, 47, 48, 60, 110, 150, 153, 158, 161, 165, 172, 196, 224, 231, 237, 248, 253, 273, 277, 280, 282, 288, 316, 317, 329, 337, 349, 353, 364, 367, 410, 420, 432, 434, 442, 454, 457, 551, 553, 555, 588, 590, 592, 593]</td>\n",
       "      <td>[318, 858, 527, 668, 912, 904, 750, 50, 922, 898]</td>\n",
       "    </tr>\n",
       "    <tr>\n",
       "      <th>16</th>\n",
       "      <td>240</td>\n",
       "      <td>28</td>\n",
       "      <td>[17, 19, 47, 110, 130, 260, 296, 316, 339, 356, 357, 364, 480, 500, 588, 590, 593, 595, 608, 898, 899, 905, 915, 919, 926, 928, 930, 940]</td>\n",
       "      <td>[318, 858, 527, 668, 912, 904, 750, 50, 922, 908]</td>\n",
       "    </tr>\n",
       "    <tr>\n",
       "      <th>17</th>\n",
       "      <td>125270</td>\n",
       "      <td>176</td>\n",
       "      <td>[1, 2, 3, 6, 10, 16, 19, 21, 24, 29, 30, 32, 34, 41, 44, 47, 48, 50, 58, 70, 85, 93, 95, 100, 105, 110, 111, 112, 151, 153, 160, 161, 163, 165, 166, 170, 172, 173, 177, 180, 185, 193, 196, 198, 203, 208, 223, 231, 249, 253, 260, 265, 272, 273, 277, 288, 292, 293, 296, 303, 315, 316, 318, 327, 328, 329, 332, 337, 344, 345, 349, 350, 353, 356, 362, 364, 367, 368, 370, 377, 379, 380, 382, 405, 407, 410, 429, 431, 435, 442, 454, 457, 464, 466, 468, 474, 480, 485, 494, 500, ...]</td>\n",
       "      <td>[668, 922, 930, 926, 665, 306, 213, 632, 910, 97]</td>\n",
       "    </tr>\n",
       "    <tr>\n",
       "      <th>18</th>\n",
       "      <td>29965</td>\n",
       "      <td>57</td>\n",
       "      <td>[10, 16, 32, 47, 50, 111, 154, 161, 165, 185, 231, 253, 260, 296, 307, 316, 329, 348, 357, 368, 380, 434, 440, 442, 457, 471, 474, 508, 509, 527, 541, 555, 589, 592, 593, 599, 608, 648, 733, 745, 750, 778, 780, 781, 784, 786, 832, 858, 903, 904, 908, 912, 920, 923, 924, 928, 965]</td>\n",
       "      <td>[318, 668, 922, 898, 913, 930, 926, 665, 306, 213]</td>\n",
       "    </tr>\n",
       "    <tr>\n",
       "      <th>19</th>\n",
       "      <td>96600</td>\n",
       "      <td>240</td>\n",
       "      <td>[1, 6, 10, 11, 14, 16, 20, 21, 25, 29, 32, 34, 36, 39, 42, 44, 45, 47, 50, 52, 55, 68, 69, 70, 72, 76, 81, 88, 89, 95, 97, 101, 111, 117, 118, 122, 123, 125, 132, 145, 150, 153, 154, 156, 157, 159, 162, 163, 164, 165, 166, 170, 172, 175, 176, 177, 179, 180, 184, 185, 187, 190, 192, 194, 196, 198, 199, 205, 223, 224, 225, 230, 231, 232, 233, 235, 246, 247, 252, 253, 260, 265, 272, 281, 283, 288, 293, 296, 299, 300, 303, 316, 318, 322, 328, 329, 333, 337, 342, 345, ...]</td>\n",
       "      <td>[668, 745, 665, 306, 213, 720, 632, 905, 947, 969]</td>\n",
       "    </tr>\n",
       "  </tbody>\n",
       "</table>\n",
       "</div>"
      ],
      "text/plain": [
       "    userId  user interactions  \\\n",
       "0    26926                214   \n",
       "1   105856                 75   \n",
       "2   126135                 64   \n",
       "3   127247                 59   \n",
       "4    10365                139   \n",
       "5   126443                150   \n",
       "6   132185                170   \n",
       "7    53029                135   \n",
       "8    52862                  7   \n",
       "9    47708                  9   \n",
       "10   55813                 35   \n",
       "11   12247                 59   \n",
       "12   63614                 98   \n",
       "13   34452                 91   \n",
       "14   32050                 56   \n",
       "15   58586                 46   \n",
       "16     240                 28   \n",
       "17  125270                176   \n",
       "18   29965                 57   \n",
       "19   96600                240   \n",
       "\n",
       "                                                                                                                                                                                                                                                                                                                                                                                                                                                                                          rated movieId  \\\n",
       "0            [1, 3, 4, 5, 7, 11, 12, 15, 19, 21, 29, 32, 39, 44, 47, 50, 52, 58, 63, 64, 65, 70, 85, 87, 92, 93, 101, 102, 104, 107, 110, 111, 118, 122, 141, 144, 147, 150, 152, 153, 156, 160, 162, 168, 170, 172, 180, 181, 185, 186, 195, 196, 203, 204, 208, 216, 218, 223, 231, 234, 235, 236, 237, 239, 248, 252, 253, 255, 258, 260, 288, 292, 296, 300, 303, 312, 316, 318, 319, 325, 327, 328, 329, 330, 337, 339, 342, 344, 349, 350, 351, 353, 355, 356, 357, 364, 366, 367, 368, 370, ...]   \n",
       "1                                                                                                                              [1, 6, 10, 16, 19, 21, 25, 32, 39, 47, 50, 70, 97, 110, 111, 150, 165, 173, 193, 196, 223, 231, 247, 253, 266, 288, 292, 293, 296, 318, 319, 337, 344, 349, 350, 356, 357, 376, 377, 434, 454, 457, 474, 480, 508, 527, 541, 551, 555, 589, 590, 593, 597, 608, 616, 628, 648, 720, 736, 745, 750, 778, 780, 832, 858, 902, 903, 904, 908, 910, 912, 913, 920, 923, 924]   \n",
       "2                                                                                                                                                                              [7, 17, 34, 41, 48, 62, 73, 110, 111, 181, 290, 296, 303, 345, 356, 357, 363, 364, 455, 480, 484, 497, 502, 515, 527, 539, 575, 586, 588, 590, 593, 594, 595, 596, 599, 608, 661, 691, 708, 711, 728, 783, 838, 892, 904, 906, 908, 910, 911, 912, 913, 914, 915, 916, 919, 920, 922, 923, 933, 934, 936, 937, 945, 952]   \n",
       "3                                                                                                                                                                                                         [1, 6, 16, 21, 25, 32, 47, 50, 58, 101, 105, 110, 111, 125, 150, 161, 215, 223, 253, 296, 306, 308, 318, 346, 356, 357, 364, 377, 380, 431, 457, 480, 517, 527, 539, 541, 555, 589, 590, 593, 595, 597, 608, 628, 648, 733, 778, 780, 858, 903, 906, 910, 912, 919, 920, 930, 931, 968, 1017]   \n",
       "4     [1, 6, 10, 11, 17, 21, 25, 30, 32, 34, 36, 39, 41, 45, 46, 47, 48, 50, 69, 70, 80, 85, 110, 117, 120, 123, 135, 144, 145, 150, 154, 163, 165, 175, 190, 194, 195, 199, 213, 223, 228, 232, 235, 237, 241, 247, 248, 253, 260, 272, 277, 288, 290, 296, 301, 305, 309, 310, 317, 318, 321, 326, 344, 349, 352, 353, 356, 357, 364, 368, 377, 380, 414, 429, 438, 440, 441, 446, 456, 457, 458, 460, 474, 480, 493, 497, 500, 508, 509, 511, 514, 517, 519, 523, 527, 532, 534, 539, 541, 544, ...]   \n",
       "5            [1, 5, 6, 7, 10, 11, 16, 17, 22, 24, 26, 27, 32, 36, 39, 41, 43, 45, 46, 47, 48, 62, 64, 70, 86, 89, 95, 107, 110, 141, 150, 153, 160, 168, 185, 188, 196, 203, 207, 208, 218, 222, 234, 249, 253, 256, 260, 261, 266, 273, 276, 280, 282, 292, 296, 300, 317, 329, 343, 345, 346, 349, 350, 356, 357, 364, 366, 367, 368, 372, 374, 375, 377, 386, 405, 410, 412, 423, 435, 440, 446, 450, 454, 455, 457, 468, 471, 474, 475, 480, 491, 497, 500, 502, 507, 508, 512, 515, 517, 520, ...]   \n",
       "6             [1, 2, 5, 6, 10, 11, 12, 16, 17, 19, 20, 21, 22, 32, 34, 36, 39, 44, 47, 50, 60, 63, 65, 66, 69, 70, 93, 95, 101, 104, 110, 111, 145, 150, 153, 163, 165, 172, 173, 174, 180, 181, 185, 196, 203, 208, 216, 223, 231, 235, 253, 256, 260, 266, 267, 276, 288, 293, 296, 303, 316, 318, 319, 328, 329, 332, 333, 337, 339, 342, 344, 353, 355, 356, 357, 364, 367, 368, 370, 372, 374, 377, 379, 380, 382, 386, 393, 397, 405, 410, 434, 435, 436, 440, 441, 442, 454, 457, 460, 464, ...]   \n",
       "7   [1, 2, 5, 7, 10, 11, 13, 21, 25, 32, 34, 39, 48, 50, 52, 58, 62, 86, 104, 110, 135, 140, 141, 150, 153, 158, 160, 161, 163, 168, 185, 205, 208, 224, 225, 231, 249, 252, 256, 260, 262, 288, 301, 316, 318, 329, 333, 337, 339, 344, 349, 356, 357, 362, 364, 367, 368, 371, 372, 376, 377, 380, 383, 410, 440, 442, 454, 455, 457, 468, 471, 474, 480, 485, 497, 500, 517, 527, 529, 534, 539, 543, 551, 585, 587, 588, 589, 590, 592, 594, 595, 596, 597, 603, 605, 608, 648, 653, 661, 671, ...]   \n",
       "8                                                                                                                                                                                                                                                                                                                                                                                                                                                                   [180, 193, 273, 362, 531, 719, 849]   \n",
       "9                                                                                                                                                                                                                                                                                                                                                                                                                                                         [158, 342, 356, 435, 520, 597, 661, 720, 745]   \n",
       "10                                                                                                                                                                                                                                                                                                                           [1, 2, 39, 104, 110, 150, 231, 260, 277, 296, 317, 356, 364, 480, 500, 520, 539, 586, 588, 593, 595, 596, 648, 673, 736, 750, 783, 899, 904, 912, 919, 922, 923, 924, 953]   \n",
       "11                                                                                                                                                                                                           [1, 11, 17, 19, 21, 32, 34, 36, 39, 47, 50, 62, 110, 150, 151, 153, 160, 161, 165, 185, 186, 196, 208, 225, 231, 235, 236, 252, 253, 266, 282, 288, 292, 293, 296, 316, 317, 318, 329, 337, 339, 344, 349, 380, 410, 412, 432, 434, 435, 457, 527, 553, 587, 588, 590, 592, 593, 595, 597]   \n",
       "12          [1, 3, 10, 12, 16, 34, 39, 44, 47, 50, 70, 74, 95, 104, 110, 111, 112, 141, 150, 153, 179, 180, 185, 188, 203, 208, 215, 223, 231, 236, 249, 253, 260, 261, 282, 288, 296, 317, 318, 319, 332, 344, 353, 356, 364, 367, 377, 380, 410, 420, 426, 440, 441, 442, 457, 466, 468, 480, 485, 500, 524, 527, 540, 542, 546, 550, 551, 552, 586, 587, 588, 589, 592, 593, 595, 597, 606, 611, 648, 662, 708, 724, 733, 736, 778, 780, 784, 788, 799, 839, 842, 849, 858, 891, 908, 919, 920, 998]   \n",
       "13                                            [1, 17, 18, 19, 26, 32, 34, 39, 45, 47, 50, 52, 70, 97, 110, 111, 147, 153, 154, 158, 175, 199, 222, 223, 233, 253, 260, 261, 262, 265, 266, 272, 273, 277, 288, 296, 337, 342, 344, 345, 350, 357, 410, 421, 441, 481, 500, 527, 531, 551, 555, 567, 581, 587, 588, 592, 595, 596, 597, 616, 674, 708, 724, 778, 781, 783, 784, 828, 830, 837, 838, 880, 899, 900, 902, 903, 910, 914, 918, 919, 920, 922, 923, 926, 942, 945, 949, 951, 971, 986, 1014]   \n",
       "14                                                                                                                                                                                                                        [1, 7, 10, 32, 34, 50, 55, 80, 82, 150, 185, 194, 203, 208, 215, 233, 246, 282, 296, 302, 306, 314, 318, 334, 337, 345, 348, 357, 369, 480, 508, 509, 523, 529, 535, 539, 541, 550, 551, 586, 587, 590, 593, 595, 596, 597, 608, 724, 728, 778, 780, 800, 858, 938, 969, 994]   \n",
       "15                                                                                                                                                                                                                                                                       [1, 2, 21, 47, 48, 60, 110, 150, 153, 158, 161, 165, 172, 196, 224, 231, 237, 248, 253, 273, 277, 280, 282, 288, 316, 317, 329, 337, 349, 353, 364, 367, 410, 420, 432, 434, 442, 454, 457, 551, 553, 555, 588, 590, 592, 593]   \n",
       "16                                                                                                                                                                                                                                                                                                                                                            [17, 19, 47, 110, 130, 260, 296, 316, 339, 356, 357, 364, 480, 500, 588, 590, 593, 595, 608, 898, 899, 905, 915, 919, 926, 928, 930, 940]   \n",
       "17       [1, 2, 3, 6, 10, 16, 19, 21, 24, 29, 30, 32, 34, 41, 44, 47, 48, 50, 58, 70, 85, 93, 95, 100, 105, 110, 111, 112, 151, 153, 160, 161, 163, 165, 166, 170, 172, 173, 177, 180, 185, 193, 196, 198, 203, 208, 223, 231, 249, 253, 260, 265, 272, 273, 277, 288, 292, 293, 296, 303, 315, 316, 318, 327, 328, 329, 332, 337, 344, 345, 349, 350, 353, 356, 362, 364, 367, 368, 370, 377, 379, 380, 382, 405, 407, 410, 429, 431, 435, 442, 454, 457, 464, 466, 468, 474, 480, 485, 494, 500, ...]   \n",
       "18                                                                                                                                                                                                             [10, 16, 32, 47, 50, 111, 154, 161, 165, 185, 231, 253, 260, 296, 307, 316, 329, 348, 357, 368, 380, 434, 440, 442, 457, 471, 474, 508, 509, 527, 541, 555, 589, 592, 593, 599, 608, 648, 733, 745, 750, 778, 780, 781, 784, 786, 832, 858, 903, 904, 908, 912, 920, 923, 924, 928, 965]   \n",
       "19             [1, 6, 10, 11, 14, 16, 20, 21, 25, 29, 32, 34, 36, 39, 42, 44, 45, 47, 50, 52, 55, 68, 69, 70, 72, 76, 81, 88, 89, 95, 97, 101, 111, 117, 118, 122, 123, 125, 132, 145, 150, 153, 154, 156, 157, 159, 162, 163, 164, 165, 166, 170, 172, 175, 176, 177, 179, 180, 184, 185, 187, 190, 192, 194, 196, 198, 199, 205, 223, 224, 225, 230, 231, 232, 233, 235, 246, 247, 252, 253, 260, 265, 272, 281, 283, 288, 293, 296, 299, 300, 303, 316, 318, 322, 328, 329, 333, 337, 342, 345, ...]   \n",
       "\n",
       "                                 movie recommendations  \n",
       "0   [858, 527, 668, 912, 904, 922, 898, 908, 903, 913]  \n",
       "1   [668, 922, 898, 930, 926, 665, 306, 213, 632, 905]  \n",
       "2    [318, 858, 668, 750, 50, 898, 903, 745, 930, 926]  \n",
       "3   [668, 904, 750, 922, 898, 908, 913, 745, 926, 665]  \n",
       "4   [858, 668, 912, 904, 750, 922, 898, 908, 903, 913]  \n",
       "5    [318, 858, 668, 912, 904, 50, 922, 898, 908, 903]  \n",
       "6   [668, 922, 898, 745, 930, 926, 665, 306, 213, 632]  \n",
       "7   [668, 904, 922, 898, 913, 745, 930, 926, 665, 306]  \n",
       "8    [318, 858, 527, 668, 912, 904, 750, 50, 922, 898]  \n",
       "9    [318, 858, 527, 668, 912, 904, 750, 50, 922, 898]  \n",
       "10   [318, 858, 527, 668, 50, 898, 908, 903, 913, 745]  \n",
       "11  [858, 668, 912, 904, 750, 922, 898, 908, 903, 913]  \n",
       "12  [668, 912, 904, 750, 922, 898, 903, 913, 745, 930]  \n",
       "13  [318, 858, 668, 912, 904, 750, 898, 908, 913, 745]  \n",
       "14  [527, 668, 912, 904, 750, 922, 898, 908, 903, 913]  \n",
       "15   [318, 858, 527, 668, 912, 904, 750, 50, 922, 898]  \n",
       "16   [318, 858, 527, 668, 912, 904, 750, 50, 922, 908]  \n",
       "17   [668, 922, 930, 926, 665, 306, 213, 632, 910, 97]  \n",
       "18  [318, 668, 922, 898, 913, 930, 926, 665, 306, 213]  \n",
       "19  [668, 745, 665, 306, 213, 720, 632, 905, 947, 969]  "
      ]
     },
     "execution_count": 38,
     "metadata": {},
     "output_type": "execute_result"
    }
   ],
   "source": [
    "users_df = users_recommend(users, 10)\n",
    "users_df"
   ]
  },
  {
   "cell_type": "markdown",
   "metadata": {},
   "source": [
    "The dataframe show 10 recommendation to each of the 20 selected users"
   ]
  }
 ],
 "metadata": {
  "kernelspec": {
   "display_name": "Python 3 (ipykernel)",
   "language": "python",
   "name": "python3"
  },
  "language_info": {
   "codemirror_mode": {
    "name": "ipython",
    "version": 3
   },
   "file_extension": ".py",
   "mimetype": "text/x-python",
   "name": "python",
   "nbconvert_exporter": "python",
   "pygments_lexer": "ipython3",
   "version": "3.11.9"
  },
  "prev_pub_hash": "ed25dc896f65f7bb9b8d313e797e744c209d2efcfa062a296e125057664be583"
 },
 "nbformat": 4,
 "nbformat_minor": 4
}
