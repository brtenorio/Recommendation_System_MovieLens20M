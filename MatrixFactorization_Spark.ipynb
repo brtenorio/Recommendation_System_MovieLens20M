{
  "cells": [
    {
      "cell_type": "markdown",
      "metadata": {
        "id": "ktap47ejqC3q"
      },
      "source": [
        "# Matrix Factorization with Mllib in Spark"
      ]
    },
    {
      "cell_type": "markdown",
      "metadata": {
        "id": "T3JjBruiqC3s"
      },
      "source": [
        "This notebook is a continuation of our previous Matrix Factorization notebook where we have built a MF engine with Keras. Here we use Matrix Factorization library from Mllib in Spark."
      ]
    },
    {
      "cell_type": "code",
      "source": [
        "# !pip install pyspark"
      ],
      "metadata": {
        "id": "OFl1llU9qU2V"
      },
      "execution_count": 2,
      "outputs": []
    },
    {
      "cell_type": "code",
      "execution_count": null,
      "metadata": {
        "id": "XKWdJkoXqC3s"
      },
      "outputs": [],
      "source": [
        "from pyspark.mllib.recommendation import ALS, MatrixFactorizationModel, Rating\n",
        "from pyspark import SparkContext\n",
        "\n",
        "from pyspark import SparkContext, SparkConf\n",
        "from pyspark.sql import SparkSession\n",
        "from pyspark.ml.evaluation import RegressionEvaluator"
      ]
    },
    {
      "cell_type": "code",
      "execution_count": 4,
      "metadata": {
        "id": "kez9K5fxqC3s"
      },
      "outputs": [],
      "source": [
        "# set the random state\n",
        "rs = 123"
      ]
    },
    {
      "cell_type": "code",
      "execution_count": 5,
      "metadata": {
        "id": "NMGDP5T0qC3s"
      },
      "outputs": [],
      "source": [
        "sc = SparkSession \\\n",
        "    .builder \\\n",
        "    .getOrCreate()"
      ]
    },
    {
      "cell_type": "markdown",
      "metadata": {
        "id": "7wju6hQ0qC3t"
      },
      "source": [
        "We load the same sampled dataframe used previously in our matrix factorization engine built with Keras"
      ]
    },
    {
      "cell_type": "code",
      "execution_count": 6,
      "metadata": {
        "id": "y-lR2zwFqC3t"
      },
      "outputs": [],
      "source": [
        "# load in the data\n",
        "\n",
        "df = sc.read.csv(\"sample_df.csv.gz\",header=True,inferSchema=True)"
      ]
    },
    {
      "cell_type": "markdown",
      "metadata": {
        "id": "xOI4Gs1vqC3t"
      },
      "source": [
        "Let's have a look at our data"
      ]
    },
    {
      "cell_type": "code",
      "execution_count": 7,
      "metadata": {
        "colab": {
          "base_uri": "https://localhost:8080/"
        },
        "id": "0yz6ZRXlqC3t",
        "outputId": "90a8eeac-aab4-45fb-e676-6e6b2063b7a0"
      },
      "outputs": [
        {
          "output_type": "stream",
          "name": "stdout",
          "text": [
            "+------+-------+------+\n",
            "|userId|movieId|rating|\n",
            "+------+-------+------+\n",
            "|     1|      2|   3.5|\n",
            "|     1|     29|   3.5|\n",
            "|     1|     32|   3.5|\n",
            "|     1|     47|   3.5|\n",
            "|     1|     50|   3.5|\n",
            "|     1|    112|   3.5|\n",
            "|     1|    151|   4.0|\n",
            "|     1|    223|   4.0|\n",
            "|     1|    253|   4.0|\n",
            "|     1|    260|   4.0|\n",
            "+------+-------+------+\n",
            "only showing top 10 rows\n",
            "\n"
          ]
        }
      ],
      "source": [
        "df.show(10)"
      ]
    },
    {
      "cell_type": "markdown",
      "metadata": {
        "id": "pgqE9Kw2qC3u"
      },
      "source": [
        "We can easily print the schema and the number of rows/columns"
      ]
    },
    {
      "cell_type": "code",
      "execution_count": 8,
      "metadata": {
        "colab": {
          "base_uri": "https://localhost:8080/"
        },
        "id": "-yrKdyNpqC3u",
        "outputId": "8825223a-fc1a-4484-9183-03d2457f057d"
      },
      "outputs": [
        {
          "output_type": "stream",
          "name": "stdout",
          "text": [
            "root\n",
            " |-- userId: integer (nullable = true)\n",
            " |-- movieId: integer (nullable = true)\n",
            " |-- rating: double (nullable = true)\n",
            "\n"
          ]
        }
      ],
      "source": [
        "df.printSchema()"
      ]
    },
    {
      "cell_type": "code",
      "execution_count": 9,
      "metadata": {
        "colab": {
          "base_uri": "https://localhost:8080/"
        },
        "id": "Wm__5ERzqC3u",
        "outputId": "e1c7186b-556b-43a3-9a0d-42511446f221"
      },
      "outputs": [
        {
          "output_type": "stream",
          "name": "stdout",
          "text": [
            "number of rows : 5399624, number of columns :3\n"
          ]
        }
      ],
      "source": [
        "print('number of rows : {}, number of columns :{}'.format(df.count(),len(df.columns)))"
      ]
    },
    {
      "cell_type": "code",
      "execution_count": 10,
      "metadata": {
        "id": "4vCzfj60qC3v"
      },
      "outputs": [],
      "source": [
        "# split into train and test\n",
        "train, test = df.randomSplit([0.8, 0.2])"
      ]
    },
    {
      "cell_type": "markdown",
      "metadata": {
        "id": "0GHBnVkJqC3v"
      },
      "source": [
        "A matrix factorisation model trained by regularized alternating least-squares `ALS`.\n",
        "\n",
        "`K` is the number of latent dimentionality and `epochs` is our number of iterations."
      ]
    },
    {
      "cell_type": "code",
      "execution_count": 11,
      "metadata": {
        "id": "hblDH8XxqC3v"
      },
      "outputs": [],
      "source": [
        "# train the model\n",
        "K = 10\n",
        "epochs = 10\n",
        "model = ALS.train(train, K, epochs, nonnegative=True, seed=rs)"
      ]
    },
    {
      "cell_type": "markdown",
      "metadata": {
        "id": "TSSaG0qFqC3v"
      },
      "source": [
        "### Now we evaluate our model on the train and test sets"
      ]
    },
    {
      "cell_type": "code",
      "execution_count": 12,
      "metadata": {
        "colab": {
          "base_uri": "https://localhost:8080/"
        },
        "id": "1Rt4S3NWqC3v",
        "outputId": "f9c03978-526d-4665-e16b-32bff78ff2cf"
      },
      "outputs": [
        {
          "output_type": "stream",
          "name": "stdout",
          "text": [
            "***** train rmse: 0.6785713514938934 *****\n"
          ]
        }
      ],
      "source": [
        "# train\n",
        "x1 = train.rdd.map(lambda p: (p[0], p[1]))\n",
        "x2 = model.predictAll(x1)\n",
        "p = x2.map(lambda r: ((r[0], r[1]), r[2]))\n",
        "ratesAndPreds = train.rdd.map(lambda r: ((r[0], r[1]), r[2])).join(p) # notice we had to map test such it has the same shape as p\n",
        "# joins on first item: (user_id, movie_id)\n",
        "# each row of result is: ((user_id, movie_id), (rating, prediction))\n",
        "mse = ratesAndPreds.map(lambda r: (r[1][0] - r[1][1])**2).mean()\n",
        "print(\"***** train rmse: %s *****\" % mse**0.5)"
      ]
    },
    {
      "cell_type": "code",
      "execution_count": 13,
      "metadata": {
        "colab": {
          "base_uri": "https://localhost:8080/"
        },
        "id": "KYFjudBUqC3v",
        "outputId": "083b9a5c-7ba3-4872-8d76-9d48bf47e468"
      },
      "outputs": [
        {
          "output_type": "stream",
          "name": "stdout",
          "text": [
            "***** test rmse: 0.8945413401724094 *****\n"
          ]
        }
      ],
      "source": [
        "# test\n",
        "x1 = test.rdd.map(lambda p: (p[0], p[1]))\n",
        "x2 = model.predictAll(x1)\n",
        "p = x2.map(lambda r: ((r[0], r[1]), r[2]))\n",
        "ratesAndPreds = test.rdd.map(lambda r: ((r[0], r[1]), r[2])).join(p)\n",
        "# joins on first item: (user_id, movie_id)\n",
        "# each row of result is: ((user_id, movie_id), (rating, prediction))\n",
        "mse = ratesAndPreds.map(lambda r: (r[1][0] - r[1][1])**2).mean()\n",
        "print(\"***** test rmse: %s *****\" % mse**0.5)"
      ]
    },
    {
      "cell_type": "markdown",
      "metadata": {
        "id": "Fg9ciNoyqC3w"
      },
      "source": [
        "We remember that the RMSE obtained for our Keras matrix factorization model on the test set was 0.8723, which is on pair with the current one."
      ]
    },
    {
      "cell_type": "markdown",
      "metadata": {
        "id": "XKV9tUupqC3w"
      },
      "source": [
        "----"
      ]
    },
    {
      "cell_type": "markdown",
      "metadata": {
        "id": "pMsZqA7EqC3w"
      },
      "source": [
        "below is just a simple check of how x1, x2, and ratesAndPreds look like."
      ]
    },
    {
      "cell_type": "code",
      "execution_count": 14,
      "metadata": {
        "colab": {
          "base_uri": "https://localhost:8080/"
        },
        "id": "3cergFhgqC3w",
        "outputId": "4a55ba4b-bd2f-460c-a4cf-80388635bc70"
      },
      "outputs": [
        {
          "output_type": "stream",
          "name": "stdout",
          "text": [
            "PythonRDD[287] at RDD at PythonRDD.scala:53\n"
          ]
        },
        {
          "output_type": "execute_result",
          "data": {
            "text/plain": [
              "[(2, 242), (2, 469), (2, 891), (3, 32), (3, 173)]"
            ]
          },
          "metadata": {},
          "execution_count": 14
        }
      ],
      "source": [
        "print(x1)\n",
        "x1.take(5)\n"
      ]
    },
    {
      "cell_type": "code",
      "execution_count": 15,
      "metadata": {
        "colab": {
          "base_uri": "https://localhost:8080/"
        },
        "id": "Zve8qap9qC3w",
        "outputId": "28ca8a80-1b41-485c-9a7b-81e706229ee6"
      },
      "outputs": [
        {
          "output_type": "stream",
          "name": "stdout",
          "text": [
            "MapPartitionsRDD[278] at mapPartitions at PythonMLLibAPI.scala:1344\n"
          ]
        },
        {
          "output_type": "execute_result",
          "data": {
            "text/plain": [
              "[Rating(user=65722, product=954, rating=2.4923833772943453),\n",
              " Rating(user=65722, product=948, rating=2.8576633229903474),\n",
              " Rating(user=65722, product=372, rating=1.3445525438204595),\n",
              " Rating(user=65722, product=858, rating=2.95247743531596),\n",
              " Rating(user=65722, product=110, rating=1.6773175328587708)]"
            ]
          },
          "metadata": {},
          "execution_count": 15
        }
      ],
      "source": [
        "print(x2)\n",
        "x2.take(5)"
      ]
    },
    {
      "cell_type": "code",
      "execution_count": 16,
      "metadata": {
        "colab": {
          "base_uri": "https://localhost:8080/"
        },
        "id": "S59xKEsdqC3x",
        "outputId": "c2bb5b35-6616-4b88-9565-9f366300a41f"
      },
      "outputs": [
        {
          "output_type": "stream",
          "name": "stdout",
          "text": [
            "PythonRDD[290] at RDD at PythonRDD.scala:53\n"
          ]
        },
        {
          "output_type": "execute_result",
          "data": {
            "text/plain": [
              "[((65722, 954), 2.4923833772943453),\n",
              " ((65722, 948), 2.8576633229903474),\n",
              " ((65722, 372), 1.3445525438204595),\n",
              " ((65722, 858), 2.95247743531596),\n",
              " ((65722, 110), 1.6773175328587708)]"
            ]
          },
          "metadata": {},
          "execution_count": 16
        }
      ],
      "source": [
        "print(p)\n",
        "p.take(5)"
      ]
    },
    {
      "cell_type": "code",
      "execution_count": 17,
      "metadata": {
        "colab": {
          "base_uri": "https://localhost:8080/"
        },
        "id": "5GHQWDzvqC3x",
        "outputId": "3d4cca30-92cb-4469-cd6c-fcc1aef00269"
      },
      "outputs": [
        {
          "output_type": "stream",
          "name": "stdout",
          "text": [
            "PythonRDD[292] at RDD at PythonRDD.scala:53\n"
          ]
        },
        {
          "output_type": "execute_result",
          "data": {
            "text/plain": [
              "[((3, 512), (2.0, 3.455849970312213)),\n",
              " ((3, 593), (5.0, 4.321198629949171)),\n",
              " ((4, 356), (4.0, 3.582186548595037)),\n",
              " ((4, 594), (4.0, 2.5853824959762606)),\n",
              " ((5, 150), (5.0, 4.7181450491088555))]"
            ]
          },
          "metadata": {},
          "execution_count": 17
        }
      ],
      "source": [
        "print(ratesAndPreds)\n",
        "ratesAndPreds.take(5)"
      ]
    }
  ],
  "metadata": {
    "kernelspec": {
      "display_name": "Python 3",
      "language": "python",
      "name": "python3"
    },
    "language_info": {
      "codemirror_mode": {
        "name": "ipython",
        "version": 3
      },
      "file_extension": ".py",
      "mimetype": "text/x-python",
      "name": "python",
      "nbconvert_exporter": "python",
      "pygments_lexer": "ipython3",
      "version": "3.11.9"
    },
    "colab": {
      "provenance": []
    }
  },
  "nbformat": 4,
  "nbformat_minor": 0
}