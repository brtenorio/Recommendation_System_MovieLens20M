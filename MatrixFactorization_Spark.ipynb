{
  "cells": [
    {
      "cell_type": "markdown",
      "metadata": {
        "id": "ktap47ejqC3q"
      },
      "source": [
        "# Matrix Factorization with Mllib in Spark"
      ]
    },
    {
      "cell_type": "markdown",
      "metadata": {
        "id": "T3JjBruiqC3s"
      },
      "source": [
        "This notebook is a continuation of our previous Matrix Factorization notebook where we have built a MF engine with Keras. Here we use Matrix Factorization library from Mllib in Spark."
      ]
    },
    {
      "cell_type": "code",
      "execution_count": 1,
      "metadata": {
        "id": "OFl1llU9qU2V"
      },
      "outputs": [],
      "source": [
        "#!pip install pyspark"
      ]
    },
    {
      "cell_type": "code",
      "execution_count": 2,
      "metadata": {
        "id": "XKWdJkoXqC3s"
      },
      "outputs": [],
      "source": [
        "from pyspark.mllib.recommendation import ALS, MatrixFactorizationModel, Rating\n",
        "from pyspark import SparkContext\n",
        "\n",
        "from pyspark import SparkContext, SparkConf\n",
        "from pyspark.sql import SparkSession\n",
        "from pyspark.ml.evaluation import RegressionEvaluator"
      ]
    },
    {
      "cell_type": "code",
      "execution_count": 3,
      "metadata": {
        "id": "kez9K5fxqC3s"
      },
      "outputs": [],
      "source": [
        "# set the random state\n",
        "rs = 123"
      ]
    },
    {
      "cell_type": "code",
      "execution_count": 4,
      "metadata": {
        "id": "NMGDP5T0qC3s"
      },
      "outputs": [],
      "source": [
        "sc = SparkSession \\\n",
        "    .builder \\\n",
        "    .getOrCreate()"
      ]
    },
    {
      "cell_type": "markdown",
      "metadata": {
        "id": "7wju6hQ0qC3t"
      },
      "source": [
        "We load the same sampled dataframe used previously in our matrix factorization engine built with Keras"
      ]
    },
    {
      "cell_type": "code",
      "execution_count": 5,
      "metadata": {
        "id": "y-lR2zwFqC3t"
      },
      "outputs": [],
      "source": [
        "# load in the data\n",
        "\n",
        "df = sc.read.csv(\"sample_df.csv.gz\",header=True,inferSchema=True)"
      ]
    },
    {
      "cell_type": "markdown",
      "metadata": {
        "id": "xOI4Gs1vqC3t"
      },
      "source": [
        "Let's have a look at our data"
      ]
    },
    {
      "cell_type": "code",
      "execution_count": 6,
      "metadata": {
        "colab": {
          "base_uri": "https://localhost:8080/"
        },
        "id": "0yz6ZRXlqC3t",
        "outputId": "34158ec9-1d54-40cb-f5c7-e8b203229b7b"
      },
      "outputs": [
        {
          "name": "stdout",
          "output_type": "stream",
          "text": [
            "+------+-------+------+\n",
            "|userId|movieId|rating|\n",
            "+------+-------+------+\n",
            "|     1|      2|   3.5|\n",
            "|     1|     29|   3.5|\n",
            "|     1|     32|   3.5|\n",
            "|     1|     47|   3.5|\n",
            "|     1|     50|   3.5|\n",
            "|     1|    112|   3.5|\n",
            "|     1|    151|   4.0|\n",
            "|     1|    223|   4.0|\n",
            "|     1|    253|   4.0|\n",
            "|     1|    260|   4.0|\n",
            "+------+-------+------+\n",
            "only showing top 10 rows\n",
            "\n"
          ]
        }
      ],
      "source": [
        "df.show(10)"
      ]
    },
    {
      "cell_type": "markdown",
      "metadata": {
        "id": "pgqE9Kw2qC3u"
      },
      "source": [
        "We can easily print the schema and the number of rows/columns"
      ]
    },
    {
      "cell_type": "code",
      "execution_count": 7,
      "metadata": {
        "colab": {
          "base_uri": "https://localhost:8080/"
        },
        "id": "-yrKdyNpqC3u",
        "outputId": "e59202aa-cbc2-4d1b-b593-cc7612058086"
      },
      "outputs": [
        {
          "name": "stdout",
          "output_type": "stream",
          "text": [
            "root\n",
            " |-- userId: integer (nullable = true)\n",
            " |-- movieId: integer (nullable = true)\n",
            " |-- rating: double (nullable = true)\n",
            "\n"
          ]
        }
      ],
      "source": [
        "df.printSchema()"
      ]
    },
    {
      "cell_type": "code",
      "execution_count": 8,
      "metadata": {
        "colab": {
          "base_uri": "https://localhost:8080/"
        },
        "id": "Wm__5ERzqC3u",
        "outputId": "a4db3b3c-bcb8-4764-9582-866821f01cba"
      },
      "outputs": [
        {
          "name": "stdout",
          "output_type": "stream",
          "text": [
            "number of rows : 5399624, number of columns :3\n"
          ]
        }
      ],
      "source": [
        "print('number of rows : {}, number of columns :{}'.format(df.count(),len(df.columns)))"
      ]
    },
    {
      "cell_type": "code",
      "execution_count": 9,
      "metadata": {
        "id": "4vCzfj60qC3v"
      },
      "outputs": [],
      "source": [
        "# split into train and test\n",
        "train, test = df.randomSplit([0.9, 0.1])"
      ]
    },
    {
      "cell_type": "markdown",
      "metadata": {
        "id": "0GHBnVkJqC3v"
      },
      "source": [
        "A matrix factorisation model trained by regularized alternating least-squares `ALS`.\n",
        "\n",
        "`K` is the number of latent dimentionality and `epochs` is our number of iterations."
      ]
    },
    {
      "cell_type": "code",
      "execution_count": 10,
      "metadata": {
        "id": "hblDH8XxqC3v"
      },
      "outputs": [],
      "source": [
        "# train the model\n",
        "K = 10\n",
        "epochs = 10\n",
        "model = ALS.train(train, K, epochs, nonnegative=True, seed=rs)"
      ]
    },
    {
      "cell_type": "markdown",
      "metadata": {
        "id": "TSSaG0qFqC3v"
      },
      "source": [
        "### Now we evaluate our model on the train and test sets"
      ]
    },
    {
      "cell_type": "code",
      "execution_count": 11,
      "metadata": {
        "colab": {
          "base_uri": "https://localhost:8080/"
        },
        "id": "1Rt4S3NWqC3v",
        "outputId": "81ea5e67-235c-4980-e782-789a3ba9f501"
      },
      "outputs": [
        {
          "name": "stdout",
          "output_type": "stream",
          "text": [
            "***** train rmse: 0.6802168283962867 *****\n"
          ]
        }
      ],
      "source": [
        "# train\n",
        "x1 = train.rdd.map(lambda p: (p[0], p[1]))\n",
        "x2 = model.predictAll(x1)\n",
        "p = x2.map(lambda r: ((r[0], r[1]), r[2]))\n",
        "ratesAndPreds = train.rdd.map(lambda r: ((r[0], r[1]), r[2])).join(p) # notice we had to map test such it has the same shape as p\n",
        "# joins on first item: (user_id, movie_id)\n",
        "# each row of result is: ((user_id, movie_id), (rating, prediction))\n",
        "mse = ratesAndPreds.map(lambda r: (r[1][0] - r[1][1])**2).mean()\n",
        "print(\"***** train rmse: %s *****\" % mse**0.5)"
      ]
    },
    {
      "cell_type": "code",
      "execution_count": 12,
      "metadata": {
        "colab": {
          "base_uri": "https://localhost:8080/"
        },
        "id": "KYFjudBUqC3v",
        "outputId": "1e9e9e18-4ec0-4814-eb9d-3578b9ae0275"
      },
      "outputs": [
        {
          "name": "stdout",
          "output_type": "stream",
          "text": [
            "***** test rmse: 0.873094632538312 *****\n"
          ]
        }
      ],
      "source": [
        "# test\n",
        "x1 = test.rdd.map(lambda p: (p[0], p[1]))\n",
        "x2 = model.predictAll(x1)\n",
        "p = x2.map(lambda r: ((r[0], r[1]), r[2]))\n",
        "ratesAndPreds = test.rdd.map(lambda r: ((r[0], r[1]), r[2])).join(p)\n",
        "# joins on first item: (user_id, movie_id)\n",
        "# each row of result is: ((user_id, movie_id), (rating, prediction))\n",
        "mse = ratesAndPreds.map(lambda r: (r[1][0] - r[1][1])**2).mean()\n",
        "print(\"***** test rmse: %s *****\" % mse**0.5)"
      ]
    },
    {
      "cell_type": "markdown",
      "metadata": {
        "id": "Fg9ciNoyqC3w"
      },
      "source": [
        "We remember that the RMSE obtained for our Keras matrix factorization model on the test set was 0.8723, which is on pair with the current prediction."
      ]
    },
    {
      "cell_type": "markdown",
      "metadata": {
        "id": "XKV9tUupqC3w"
      },
      "source": [
        "----"
      ]
    },
    {
      "cell_type": "markdown",
      "metadata": {
        "id": "ir6DTjDYLCVK"
      },
      "source": [
        "## We can use our model to recommend products to users!\n",
        "\n",
        "Let us try recommend movies to a set of users."
      ]
    },
    {
      "cell_type": "markdown",
      "metadata": {
        "id": "6Tnhs79jYEKF"
      },
      "source": [
        "The method `.recommendProducts()` recommends the top “num” number of products for a given user and returns a list of Rating objects sorted by the predicted rating in descending order."
      ]
    },
    {
      "cell_type": "code",
      "execution_count": 21,
      "metadata": {
        "colab": {
          "base_uri": "https://localhost:8080/"
        },
        "id": "UhbKixeyLZUA",
        "outputId": "07214522-6ece-4cc0-b3cf-9998136dcaee"
      },
      "outputs": [
        {
          "data": {
            "text/plain": [
              "[Rating(user=126443, product=106, rating=4.300946771647378),\n",
              " Rating(user=126443, product=326, rating=4.19226143014788),\n",
              " Rating(user=126443, product=844, rating=4.176850052221196),\n",
              " Rating(user=126443, product=659, rating=4.144022301815534),\n",
              " Rating(user=126443, product=341, rating=4.118683655867986),\n",
              " Rating(user=126443, product=720, rating=4.0540810876237945),\n",
              " Rating(user=126443, product=701, rating=4.053854493166524),\n",
              " Rating(user=126443, product=214, rating=4.0418627080314),\n",
              " Rating(user=126443, product=745, rating=4.037544339946727),\n",
              " Rating(user=126443, product=32, rating=4.028476491870228)]"
            ]
          },
          "execution_count": 21,
          "metadata": {},
          "output_type": "execute_result"
        }
      ],
      "source": [
        "# one example: recommned 10 items to userId 52862\n",
        "\n",
        "model.recommendProducts(126443, 10)"
      ]
    },
    {
      "cell_type": "markdown",
      "metadata": {
        "id": "ptpSWSJULXUa"
      },
      "source": [
        "----"
      ]
    },
    {
      "cell_type": "markdown",
      "metadata": {
        "id": "pMsZqA7EqC3w"
      },
      "source": [
        "below is just a simple check of how x1, x2, and ratesAndPreds look like."
      ]
    },
    {
      "cell_type": "code",
      "execution_count": 14,
      "metadata": {
        "colab": {
          "base_uri": "https://localhost:8080/"
        },
        "id": "3cergFhgqC3w",
        "outputId": "2414fc40-3e28-48ea-96e0-181a9b9693be"
      },
      "outputs": [
        {
          "name": "stdout",
          "output_type": "stream",
          "text": [
            "PythonRDD[289] at RDD at PythonRDD.scala:53\n"
          ]
        },
        {
          "data": {
            "text/plain": [
              "[(1, 47), (1, 112), (1, 337), (2, 70), (2, 110)]"
            ]
          },
          "execution_count": 14,
          "metadata": {},
          "output_type": "execute_result"
        }
      ],
      "source": [
        "print(x1)\n",
        "x1.take(5)\n"
      ]
    },
    {
      "cell_type": "code",
      "execution_count": 15,
      "metadata": {
        "colab": {
          "base_uri": "https://localhost:8080/"
        },
        "id": "Zve8qap9qC3w",
        "outputId": "ac77fcec-68da-49e1-cd3e-91b571480096"
      },
      "outputs": [
        {
          "name": "stdout",
          "output_type": "stream",
          "text": [
            "MapPartitionsRDD[278] at mapPartitions at PythonMLLibAPI.scala:1344\n"
          ]
        },
        {
          "data": {
            "text/plain": [
              "[Rating(user=65722, product=515, rating=1.6422999522519517),\n",
              " Rating(user=65722, product=949, rating=2.6059620166890283),\n",
              " Rating(user=129434, product=912, rating=3.9893138882692036),\n",
              " Rating(user=129434, product=665, rating=4.242397620069801),\n",
              " Rating(user=91902, product=140, rating=2.8549149853674236)]"
            ]
          },
          "execution_count": 15,
          "metadata": {},
          "output_type": "execute_result"
        }
      ],
      "source": [
        "print(x2)\n",
        "x2.take(5)"
      ]
    },
    {
      "cell_type": "code",
      "execution_count": 16,
      "metadata": {
        "colab": {
          "base_uri": "https://localhost:8080/"
        },
        "id": "S59xKEsdqC3x",
        "outputId": "7f84f23f-680f-4127-9a21-c44a4bcfce61"
      },
      "outputs": [
        {
          "name": "stdout",
          "output_type": "stream",
          "text": [
            "PythonRDD[292] at RDD at PythonRDD.scala:53\n"
          ]
        },
        {
          "data": {
            "text/plain": [
              "[((65722, 515), 1.6422999522519517),\n",
              " ((65722, 949), 2.6059620166890283),\n",
              " ((129434, 912), 3.9893138882692036),\n",
              " ((129434, 665), 4.242397620069801),\n",
              " ((91902, 140), 2.8549149853674236)]"
            ]
          },
          "execution_count": 16,
          "metadata": {},
          "output_type": "execute_result"
        }
      ],
      "source": [
        "print(p)\n",
        "p.take(5)"
      ]
    },
    {
      "cell_type": "code",
      "execution_count": 17,
      "metadata": {
        "colab": {
          "base_uri": "https://localhost:8080/"
        },
        "id": "5GHQWDzvqC3x",
        "outputId": "a9331d08-715e-4649-bc3b-6c5c8d43f9b7"
      },
      "outputs": [
        {
          "name": "stdout",
          "output_type": "stream",
          "text": [
            "PythonRDD[294] at RDD at PythonRDD.scala:53\n"
          ]
        },
        {
          "data": {
            "text/plain": [
              "[((1, 47), (3.5, 3.997202225559832)),\n",
              " ((1, 112), (3.5, 3.4209485245494218)),\n",
              " ((2, 70), (5.0, 3.415139092526429)),\n",
              " ((3, 260), (5.0, 4.911124741134522)),\n",
              " ((3, 512), (2.0, 3.1283293439241255))]"
            ]
          },
          "execution_count": 17,
          "metadata": {},
          "output_type": "execute_result"
        }
      ],
      "source": [
        "print(ratesAndPreds)\n",
        "ratesAndPreds.take(5)"
      ]
    }
  ],
  "metadata": {
    "colab": {
      "provenance": []
    },
    "kernelspec": {
      "display_name": "Python 3",
      "language": "python",
      "name": "python3"
    },
    "language_info": {
      "codemirror_mode": {
        "name": "ipython",
        "version": 3
      },
      "file_extension": ".py",
      "mimetype": "text/x-python",
      "name": "python",
      "nbconvert_exporter": "python",
      "pygments_lexer": "ipython3",
      "version": "3.11.9"
    }
  },
  "nbformat": 4,
  "nbformat_minor": 0
}
